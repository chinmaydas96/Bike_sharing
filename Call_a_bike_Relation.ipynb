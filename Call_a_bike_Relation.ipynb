{
 "cells": [
  {
   "cell_type": "code",
   "execution_count": 16,
   "metadata": {
    "collapsed": true
   },
   "outputs": [],
   "source": [
    "import pandas as pd\n",
    "import numpy as np"
   ]
  },
  {
   "cell_type": "code",
   "execution_count": 17,
   "metadata": {},
   "outputs": [],
   "source": [
    "d16 = pd.read_csv('2016_Call_a_bike_cleaned.csv')\n",
    "d17 = pd.read_csv('2017_Call_a_bike_cleaned.csv')"
   ]
  },
  {
   "cell_type": "code",
   "execution_count": 18,
   "metadata": {},
   "outputs": [],
   "source": [
    "d16.index = d16['DATE_BOOKING']\n",
    "del d16['DATE_BOOKING']\n",
    "d17.index = d17['DATE_BOOKING']\n",
    "del d17['DATE_BOOKING']"
   ]
  },
  {
   "cell_type": "code",
   "execution_count": 19,
   "metadata": {},
   "outputs": [
    {
     "data": {
      "text/html": [
       "<div>\n",
       "<style>\n",
       "    .dataframe thead tr:only-child th {\n",
       "        text-align: right;\n",
       "    }\n",
       "\n",
       "    .dataframe thead th {\n",
       "        text-align: left;\n",
       "    }\n",
       "\n",
       "    .dataframe tbody tr th {\n",
       "        vertical-align: top;\n",
       "    }\n",
       "</style>\n",
       "<table border=\"1\" class=\"dataframe\">\n",
       "  <thead>\n",
       "    <tr style=\"text-align: right;\">\n",
       "      <th></th>\n",
       "      <th>CATEGORY_HAL_ID</th>\n",
       "      <th>VEHICLE_HAL_ID</th>\n",
       "      <th>DATE_BOOKING.1</th>\n",
       "      <th>DATE_FROM</th>\n",
       "      <th>DATE_UNTIL</th>\n",
       "      <th>START_RENTAL_ZONE</th>\n",
       "      <th>START_RENTAL_ZONE_HAL_ID</th>\n",
       "      <th>END_RENTAL_ZONE</th>\n",
       "      <th>END_RENTAL_ZONE_HAL_ID</th>\n",
       "      <th>RENTAL_ZONE_HAL_SRC</th>\n",
       "      <th>CITY_RENTAL_ZONE</th>\n",
       "      <th>TECHNICAL_INCOME_CHANNEL</th>\n",
       "    </tr>\n",
       "    <tr>\n",
       "      <th>DATE_BOOKING</th>\n",
       "      <th></th>\n",
       "      <th></th>\n",
       "      <th></th>\n",
       "      <th></th>\n",
       "      <th></th>\n",
       "      <th></th>\n",
       "      <th></th>\n",
       "      <th></th>\n",
       "      <th></th>\n",
       "      <th></th>\n",
       "      <th></th>\n",
       "      <th></th>\n",
       "    </tr>\n",
       "  </thead>\n",
       "  <tbody>\n",
       "    <tr>\n",
       "      <th>2016-12-31 21:52:28</th>\n",
       "      <td>51000</td>\n",
       "      <td>117016</td>\n",
       "      <td>2016-12-31 21:52:28</td>\n",
       "      <td>2016-12-31 21:52:28</td>\n",
       "      <td>2016-12-31 22:05:45</td>\n",
       "      <td>Koppelstraße/Lokstedter Grenzstraße</td>\n",
       "      <td>213792.0</td>\n",
       "      <td>Isestraße / Hoheluftbrücke</td>\n",
       "      <td>140804.0</td>\n",
       "      <td>Standort</td>\n",
       "      <td>Hamburg</td>\n",
       "      <td>IVR</td>\n",
       "    </tr>\n",
       "    <tr>\n",
       "      <th>2016-12-31 23:20:51</th>\n",
       "      <td>51000</td>\n",
       "      <td>120842</td>\n",
       "      <td>2016-12-31 23:20:51</td>\n",
       "      <td>2016-12-31 23:20:51</td>\n",
       "      <td>2016-12-31 23:38:41</td>\n",
       "      <td>Lappenbergsallee / Bei der Apostelkirche</td>\n",
       "      <td>243618.0</td>\n",
       "      <td>Allende-Platz/Grindelhof</td>\n",
       "      <td>198077.0</td>\n",
       "      <td>Standort</td>\n",
       "      <td>Hamburg</td>\n",
       "      <td>IVR</td>\n",
       "    </tr>\n",
       "    <tr>\n",
       "      <th>2016-12-31 23:27:05</th>\n",
       "      <td>51000</td>\n",
       "      <td>108102</td>\n",
       "      <td>2016-12-31 23:27:05</td>\n",
       "      <td>2016-12-31 23:27:05</td>\n",
       "      <td>2016-12-31 23:39:26</td>\n",
       "      <td>Uferstraße/Wagnerstraße</td>\n",
       "      <td>207619.0</td>\n",
       "      <td>Eduard-Rhein-Ufer / Schwanenwik</td>\n",
       "      <td>140800.0</td>\n",
       "      <td>Standort</td>\n",
       "      <td>Hamburg</td>\n",
       "      <td>iPhone SRH</td>\n",
       "    </tr>\n",
       "    <tr>\n",
       "      <th>2016-12-31 22:59:23</th>\n",
       "      <td>51000</td>\n",
       "      <td>119256</td>\n",
       "      <td>2016-12-31 22:59:23</td>\n",
       "      <td>2016-12-31 22:59:23</td>\n",
       "      <td>2016-12-31 23:40:42</td>\n",
       "      <td>Süderfeldstraße/Universitätsklinikum Eppendorf</td>\n",
       "      <td>201328.0</td>\n",
       "      <td>Thadenstraße/Holstenstraße</td>\n",
       "      <td>252492.0</td>\n",
       "      <td>Standort</td>\n",
       "      <td>Hamburg</td>\n",
       "      <td>NaN</td>\n",
       "    </tr>\n",
       "    <tr>\n",
       "      <th>2016-12-31 23:54:05</th>\n",
       "      <td>51000</td>\n",
       "      <td>120518</td>\n",
       "      <td>2016-12-31 23:54:05</td>\n",
       "      <td>2016-12-31 23:54:05</td>\n",
       "      <td>2017-01-01 00:05:28</td>\n",
       "      <td>Reeseberg/EBV-Anzengruberstraße</td>\n",
       "      <td>241777.0</td>\n",
       "      <td>Harburger Rathausstraße/Deichhausweg</td>\n",
       "      <td>242645.0</td>\n",
       "      <td>Standort</td>\n",
       "      <td>Hamburg</td>\n",
       "      <td>Techniker HH_23 (-284-)</td>\n",
       "    </tr>\n",
       "  </tbody>\n",
       "</table>\n",
       "</div>"
      ],
      "text/plain": [
       "                     CATEGORY_HAL_ID  VEHICLE_HAL_ID       DATE_BOOKING.1  \\\n",
       "DATE_BOOKING                                                                \n",
       "2016-12-31 21:52:28            51000          117016  2016-12-31 21:52:28   \n",
       "2016-12-31 23:20:51            51000          120842  2016-12-31 23:20:51   \n",
       "2016-12-31 23:27:05            51000          108102  2016-12-31 23:27:05   \n",
       "2016-12-31 22:59:23            51000          119256  2016-12-31 22:59:23   \n",
       "2016-12-31 23:54:05            51000          120518  2016-12-31 23:54:05   \n",
       "\n",
       "                               DATE_FROM           DATE_UNTIL  \\\n",
       "DATE_BOOKING                                                    \n",
       "2016-12-31 21:52:28  2016-12-31 21:52:28  2016-12-31 22:05:45   \n",
       "2016-12-31 23:20:51  2016-12-31 23:20:51  2016-12-31 23:38:41   \n",
       "2016-12-31 23:27:05  2016-12-31 23:27:05  2016-12-31 23:39:26   \n",
       "2016-12-31 22:59:23  2016-12-31 22:59:23  2016-12-31 23:40:42   \n",
       "2016-12-31 23:54:05  2016-12-31 23:54:05  2017-01-01 00:05:28   \n",
       "\n",
       "                                                  START_RENTAL_ZONE  \\\n",
       "DATE_BOOKING                                                          \n",
       "2016-12-31 21:52:28             Koppelstraße/Lokstedter Grenzstraße   \n",
       "2016-12-31 23:20:51        Lappenbergsallee / Bei der Apostelkirche   \n",
       "2016-12-31 23:27:05                         Uferstraße/Wagnerstraße   \n",
       "2016-12-31 22:59:23  Süderfeldstraße/Universitätsklinikum Eppendorf   \n",
       "2016-12-31 23:54:05                 Reeseberg/EBV-Anzengruberstraße   \n",
       "\n",
       "                     START_RENTAL_ZONE_HAL_ID  \\\n",
       "DATE_BOOKING                                    \n",
       "2016-12-31 21:52:28                  213792.0   \n",
       "2016-12-31 23:20:51                  243618.0   \n",
       "2016-12-31 23:27:05                  207619.0   \n",
       "2016-12-31 22:59:23                  201328.0   \n",
       "2016-12-31 23:54:05                  241777.0   \n",
       "\n",
       "                                          END_RENTAL_ZONE  \\\n",
       "DATE_BOOKING                                                \n",
       "2016-12-31 21:52:28            Isestraße / Hoheluftbrücke   \n",
       "2016-12-31 23:20:51              Allende-Platz/Grindelhof   \n",
       "2016-12-31 23:27:05       Eduard-Rhein-Ufer / Schwanenwik   \n",
       "2016-12-31 22:59:23            Thadenstraße/Holstenstraße   \n",
       "2016-12-31 23:54:05  Harburger Rathausstraße/Deichhausweg   \n",
       "\n",
       "                     END_RENTAL_ZONE_HAL_ID RENTAL_ZONE_HAL_SRC  \\\n",
       "DATE_BOOKING                                                      \n",
       "2016-12-31 21:52:28                140804.0            Standort   \n",
       "2016-12-31 23:20:51                198077.0            Standort   \n",
       "2016-12-31 23:27:05                140800.0            Standort   \n",
       "2016-12-31 22:59:23                252492.0            Standort   \n",
       "2016-12-31 23:54:05                242645.0            Standort   \n",
       "\n",
       "                    CITY_RENTAL_ZONE TECHNICAL_INCOME_CHANNEL  \n",
       "DATE_BOOKING                                                   \n",
       "2016-12-31 21:52:28          Hamburg                      IVR  \n",
       "2016-12-31 23:20:51          Hamburg                      IVR  \n",
       "2016-12-31 23:27:05          Hamburg               iPhone SRH  \n",
       "2016-12-31 22:59:23          Hamburg                      NaN  \n",
       "2016-12-31 23:54:05          Hamburg  Techniker HH_23 (-284-)  "
      ]
     },
     "execution_count": 19,
     "metadata": {},
     "output_type": "execute_result"
    }
   ],
   "source": [
    "d16.tail()"
   ]
  },
  {
   "cell_type": "code",
   "execution_count": 20,
   "metadata": {},
   "outputs": [
    {
     "data": {
      "text/html": [
       "<div>\n",
       "<style>\n",
       "    .dataframe thead tr:only-child th {\n",
       "        text-align: right;\n",
       "    }\n",
       "\n",
       "    .dataframe thead th {\n",
       "        text-align: left;\n",
       "    }\n",
       "\n",
       "    .dataframe tbody tr th {\n",
       "        vertical-align: top;\n",
       "    }\n",
       "</style>\n",
       "<table border=\"1\" class=\"dataframe\">\n",
       "  <thead>\n",
       "    <tr style=\"text-align: right;\">\n",
       "      <th></th>\n",
       "      <th>CATEGORY_HAL_ID</th>\n",
       "      <th>VEHICLE_HAL_ID</th>\n",
       "      <th>DATE_BOOKING.1</th>\n",
       "      <th>DATE_FROM</th>\n",
       "      <th>DATE_UNTIL</th>\n",
       "      <th>START_RENTAL_ZONE</th>\n",
       "      <th>START_RENTAL_ZONE_HAL_ID</th>\n",
       "      <th>END_RENTAL_ZONE</th>\n",
       "      <th>END_RENTAL_ZONE_HAL_ID</th>\n",
       "      <th>RENTAL_ZONE_HAL_SRC</th>\n",
       "      <th>CITY_RENTAL_ZONE</th>\n",
       "      <th>TECHNICAL_INCOME_CHANNEL</th>\n",
       "    </tr>\n",
       "    <tr>\n",
       "      <th>DATE_BOOKING</th>\n",
       "      <th></th>\n",
       "      <th></th>\n",
       "      <th></th>\n",
       "      <th></th>\n",
       "      <th></th>\n",
       "      <th></th>\n",
       "      <th></th>\n",
       "      <th></th>\n",
       "      <th></th>\n",
       "      <th></th>\n",
       "      <th></th>\n",
       "      <th></th>\n",
       "    </tr>\n",
       "  </thead>\n",
       "  <tbody>\n",
       "    <tr>\n",
       "      <th>2017-05-16 07:36:36</th>\n",
       "      <td>51000</td>\n",
       "      <td>119663</td>\n",
       "      <td>2017-05-16 07:36:36</td>\n",
       "      <td>2017-05-16 07:36:36</td>\n",
       "      <td>2017-05-16 07:44:16</td>\n",
       "      <td>Bahnhof Altona Ost/Max-Brauer-Allee</td>\n",
       "      <td>131646.0</td>\n",
       "      <td>Neuer Pferdemarkt / Beim Grünen Jäger</td>\n",
       "      <td>131890.0</td>\n",
       "      <td>Standort</td>\n",
       "      <td>Hamburg</td>\n",
       "      <td>iPhone SRH</td>\n",
       "    </tr>\n",
       "    <tr>\n",
       "      <th>2017-05-16 07:37:07</th>\n",
       "      <td>50000</td>\n",
       "      <td>165809</td>\n",
       "      <td>2017-05-16 07:37:07</td>\n",
       "      <td>2017-05-16 07:37:07</td>\n",
       "      <td>2017-05-16 08:09:42</td>\n",
       "      <td>Frankenallee / Schwalbacherstraße</td>\n",
       "      <td>214452.0</td>\n",
       "      <td>Frankenallee / Schwalbacherstraße</td>\n",
       "      <td>214452.0</td>\n",
       "      <td>Standort</td>\n",
       "      <td>Frankfurt am Main</td>\n",
       "      <td>IVR</td>\n",
       "    </tr>\n",
       "    <tr>\n",
       "      <th>2017-05-16 07:40:17</th>\n",
       "      <td>51000</td>\n",
       "      <td>120488</td>\n",
       "      <td>2017-05-16 07:40:17</td>\n",
       "      <td>2017-05-16 07:40:17</td>\n",
       "      <td>2017-05-16 07:50:07</td>\n",
       "      <td>Weidestraße/Biedermannplatz</td>\n",
       "      <td>211922.0</td>\n",
       "      <td>Mundsburg / Schürbeker Straße</td>\n",
       "      <td>140799.0</td>\n",
       "      <td>Standort</td>\n",
       "      <td>Hamburg</td>\n",
       "      <td>Techniker HH_119 (-2334-)</td>\n",
       "    </tr>\n",
       "    <tr>\n",
       "      <th>2017-05-16 08:02:12</th>\n",
       "      <td>50000</td>\n",
       "      <td>116623</td>\n",
       "      <td>2017-05-16 08:02:12</td>\n",
       "      <td>2017-05-16 08:02:12</td>\n",
       "      <td>2017-05-23 08:02:12</td>\n",
       "      <td>NaN</td>\n",
       "      <td>NaN</td>\n",
       "      <td>NaN</td>\n",
       "      <td>NaN</td>\n",
       "      <td>NaN</td>\n",
       "      <td>Darmstadt</td>\n",
       "      <td>iPhone CAB</td>\n",
       "    </tr>\n",
       "    <tr>\n",
       "      <th>2017-05-16 08:11:13</th>\n",
       "      <td>50000</td>\n",
       "      <td>110529</td>\n",
       "      <td>2017-05-16 08:11:13</td>\n",
       "      <td>2017-05-16 08:11:13</td>\n",
       "      <td>2017-05-23 08:11:13</td>\n",
       "      <td>NaN</td>\n",
       "      <td>NaN</td>\n",
       "      <td>NaN</td>\n",
       "      <td>NaN</td>\n",
       "      <td>NaN</td>\n",
       "      <td>Darmstadt</td>\n",
       "      <td>iPhone CAB</td>\n",
       "    </tr>\n",
       "  </tbody>\n",
       "</table>\n",
       "</div>"
      ],
      "text/plain": [
       "                     CATEGORY_HAL_ID  VEHICLE_HAL_ID       DATE_BOOKING.1  \\\n",
       "DATE_BOOKING                                                                \n",
       "2017-05-16 07:36:36            51000          119663  2017-05-16 07:36:36   \n",
       "2017-05-16 07:37:07            50000          165809  2017-05-16 07:37:07   \n",
       "2017-05-16 07:40:17            51000          120488  2017-05-16 07:40:17   \n",
       "2017-05-16 08:02:12            50000          116623  2017-05-16 08:02:12   \n",
       "2017-05-16 08:11:13            50000          110529  2017-05-16 08:11:13   \n",
       "\n",
       "                               DATE_FROM           DATE_UNTIL  \\\n",
       "DATE_BOOKING                                                    \n",
       "2017-05-16 07:36:36  2017-05-16 07:36:36  2017-05-16 07:44:16   \n",
       "2017-05-16 07:37:07  2017-05-16 07:37:07  2017-05-16 08:09:42   \n",
       "2017-05-16 07:40:17  2017-05-16 07:40:17  2017-05-16 07:50:07   \n",
       "2017-05-16 08:02:12  2017-05-16 08:02:12  2017-05-23 08:02:12   \n",
       "2017-05-16 08:11:13  2017-05-16 08:11:13  2017-05-23 08:11:13   \n",
       "\n",
       "                                       START_RENTAL_ZONE  \\\n",
       "DATE_BOOKING                                               \n",
       "2017-05-16 07:36:36  Bahnhof Altona Ost/Max-Brauer-Allee   \n",
       "2017-05-16 07:37:07    Frankenallee / Schwalbacherstraße   \n",
       "2017-05-16 07:40:17          Weidestraße/Biedermannplatz   \n",
       "2017-05-16 08:02:12                                  NaN   \n",
       "2017-05-16 08:11:13                                  NaN   \n",
       "\n",
       "                     START_RENTAL_ZONE_HAL_ID  \\\n",
       "DATE_BOOKING                                    \n",
       "2017-05-16 07:36:36                  131646.0   \n",
       "2017-05-16 07:37:07                  214452.0   \n",
       "2017-05-16 07:40:17                  211922.0   \n",
       "2017-05-16 08:02:12                       NaN   \n",
       "2017-05-16 08:11:13                       NaN   \n",
       "\n",
       "                                           END_RENTAL_ZONE  \\\n",
       "DATE_BOOKING                                                 \n",
       "2017-05-16 07:36:36  Neuer Pferdemarkt / Beim Grünen Jäger   \n",
       "2017-05-16 07:37:07      Frankenallee / Schwalbacherstraße   \n",
       "2017-05-16 07:40:17          Mundsburg / Schürbeker Straße   \n",
       "2017-05-16 08:02:12                                    NaN   \n",
       "2017-05-16 08:11:13                                    NaN   \n",
       "\n",
       "                     END_RENTAL_ZONE_HAL_ID RENTAL_ZONE_HAL_SRC  \\\n",
       "DATE_BOOKING                                                      \n",
       "2017-05-16 07:36:36                131890.0            Standort   \n",
       "2017-05-16 07:37:07                214452.0            Standort   \n",
       "2017-05-16 07:40:17                140799.0            Standort   \n",
       "2017-05-16 08:02:12                     NaN                 NaN   \n",
       "2017-05-16 08:11:13                     NaN                 NaN   \n",
       "\n",
       "                      CITY_RENTAL_ZONE   TECHNICAL_INCOME_CHANNEL  \n",
       "DATE_BOOKING                                                       \n",
       "2017-05-16 07:36:36            Hamburg                 iPhone SRH  \n",
       "2017-05-16 07:37:07  Frankfurt am Main                        IVR  \n",
       "2017-05-16 07:40:17            Hamburg  Techniker HH_119 (-2334-)  \n",
       "2017-05-16 08:02:12          Darmstadt                 iPhone CAB  \n",
       "2017-05-16 08:11:13          Darmstadt                 iPhone CAB  "
      ]
     },
     "execution_count": 20,
     "metadata": {},
     "output_type": "execute_result"
    }
   ],
   "source": [
    "d17.tail()"
   ]
  },
  {
   "cell_type": "code",
   "execution_count": 21,
   "metadata": {},
   "outputs": [
    {
     "data": {
      "text/plain": [
       "True"
      ]
     },
     "execution_count": 21,
     "metadata": {},
     "output_type": "execute_result"
    }
   ],
   "source": [
    "d16.isnull().values.any()"
   ]
  },
  {
   "cell_type": "code",
   "execution_count": 22,
   "metadata": {},
   "outputs": [
    {
     "data": {
      "text/plain": [
       "True"
      ]
     },
     "execution_count": 22,
     "metadata": {},
     "output_type": "execute_result"
    }
   ],
   "source": [
    "d17.isnull().values.any()"
   ]
  },
  {
   "cell_type": "code",
   "execution_count": 27,
   "metadata": {},
   "outputs": [],
   "source": [
    "d16.index = pd.to_datetime(d16.index)\n",
    "d17.index = pd.to_datetime(d17.index)"
   ]
  },
  {
   "cell_type": "code",
   "execution_count": 28,
   "metadata": {},
   "outputs": [
    {
     "data": {
      "text/plain": [
       "DatetimeIndex(['2016-01-01 00:44:49', '2016-01-01 00:31:46',\n",
       "               '2016-01-01 00:38:37', '2016-01-01 01:11:00',\n",
       "               '2016-01-01 01:06:17', '2016-01-01 01:24:50',\n",
       "               '2016-01-01 00:08:54', '2016-01-01 00:27:53',\n",
       "               '2016-01-01 00:30:33', '2016-01-01 01:06:19',\n",
       "               ...\n",
       "               '2016-12-31 17:40:00', '2016-12-31 19:23:42',\n",
       "               '2016-12-31 20:02:58', '2016-12-31 20:09:58',\n",
       "               '2016-12-31 21:00:53', '2016-12-31 21:52:28',\n",
       "               '2016-12-31 23:20:51', '2016-12-31 23:27:05',\n",
       "               '2016-12-31 22:59:23', '2016-12-31 23:54:05'],\n",
       "              dtype='datetime64[ns]', name='DATE_BOOKING', length=5702575, freq=None)"
      ]
     },
     "execution_count": 28,
     "metadata": {},
     "output_type": "execute_result"
    }
   ],
   "source": [
    "d16.index"
   ]
  },
  {
   "cell_type": "code",
   "execution_count": 29,
   "metadata": {},
   "outputs": [
    {
     "data": {
      "text/plain": [
       "DatetimeIndex(['2017-01-01 00:08:02', '2017-01-01 00:22:58',\n",
       "               '2017-01-01 01:14:31', '2017-01-01 00:58:23',\n",
       "               '2017-01-01 01:31:30', '2017-01-01 01:33:38',\n",
       "               '2017-01-01 03:28:05', '2017-01-01 03:29:34',\n",
       "               '2017-01-01 03:48:35', '2017-01-01 03:53:43',\n",
       "               ...\n",
       "               '2017-05-15 23:44:43', '2017-05-16 01:11:33',\n",
       "               '2017-05-16 03:25:09', '2017-05-16 07:15:40',\n",
       "               '2017-05-16 07:19:50', '2017-05-16 07:36:36',\n",
       "               '2017-05-16 07:37:07', '2017-05-16 07:40:17',\n",
       "               '2017-05-16 08:02:12', '2017-05-16 08:11:13'],\n",
       "              dtype='datetime64[ns]', name='DATE_BOOKING', length=1615553, freq=None)"
      ]
     },
     "execution_count": 29,
     "metadata": {},
     "output_type": "execute_result"
    }
   ],
   "source": [
    "d17.index"
   ]
  },
  {
   "cell_type": "code",
   "execution_count": 33,
   "metadata": {},
   "outputs": [],
   "source": [
    "d16.insert(0, 'Trip_no', range(1, 1 + len(d16)))\n",
    "d17.insert(0, 'Trip_no', range(1, 1 + len(d17)))"
   ]
  },
  {
   "cell_type": "code",
   "execution_count": 64,
   "metadata": {},
   "outputs": [
    {
     "data": {
      "text/html": [
       "<div>\n",
       "<style>\n",
       "    .dataframe thead tr:only-child th {\n",
       "        text-align: right;\n",
       "    }\n",
       "\n",
       "    .dataframe thead th {\n",
       "        text-align: left;\n",
       "    }\n",
       "\n",
       "    .dataframe tbody tr th {\n",
       "        vertical-align: top;\n",
       "    }\n",
       "</style>\n",
       "<table border=\"1\" class=\"dataframe\">\n",
       "  <thead>\n",
       "    <tr style=\"text-align: right;\">\n",
       "      <th></th>\n",
       "      <th>Trip_no</th>\n",
       "      <th>CATEGORY_HAL_ID</th>\n",
       "      <th>VEHICLE_HAL_ID</th>\n",
       "      <th>DATE_BOOKING.1</th>\n",
       "      <th>DATE_FROM</th>\n",
       "      <th>DATE_UNTIL</th>\n",
       "      <th>START_RENTAL_ZONE</th>\n",
       "      <th>START_RENTAL_ZONE_HAL_ID</th>\n",
       "      <th>END_RENTAL_ZONE</th>\n",
       "      <th>END_RENTAL_ZONE_HAL_ID</th>\n",
       "      <th>RENTAL_ZONE_HAL_SRC</th>\n",
       "      <th>CITY_RENTAL_ZONE</th>\n",
       "      <th>TECHNICAL_INCOME_CHANNEL</th>\n",
       "    </tr>\n",
       "    <tr>\n",
       "      <th>DATE_BOOKING</th>\n",
       "      <th></th>\n",
       "      <th></th>\n",
       "      <th></th>\n",
       "      <th></th>\n",
       "      <th></th>\n",
       "      <th></th>\n",
       "      <th></th>\n",
       "      <th></th>\n",
       "      <th></th>\n",
       "      <th></th>\n",
       "      <th></th>\n",
       "      <th></th>\n",
       "      <th></th>\n",
       "    </tr>\n",
       "  </thead>\n",
       "  <tbody>\n",
       "    <tr>\n",
       "      <th>2016-12-31 21:52:28</th>\n",
       "      <td>5702571</td>\n",
       "      <td>51000</td>\n",
       "      <td>117016</td>\n",
       "      <td>2016-12-31 21:52:28</td>\n",
       "      <td>2016-12-31 21:52:28</td>\n",
       "      <td>2016-12-31 22:05:45</td>\n",
       "      <td>Koppelstraße/Lokstedter Grenzstraße</td>\n",
       "      <td>213792.0</td>\n",
       "      <td>Isestraße / Hoheluftbrücke</td>\n",
       "      <td>140804.0</td>\n",
       "      <td>Standort</td>\n",
       "      <td>Hamburg</td>\n",
       "      <td>IVR</td>\n",
       "    </tr>\n",
       "    <tr>\n",
       "      <th>2016-12-31 23:20:51</th>\n",
       "      <td>5702572</td>\n",
       "      <td>51000</td>\n",
       "      <td>120842</td>\n",
       "      <td>2016-12-31 23:20:51</td>\n",
       "      <td>2016-12-31 23:20:51</td>\n",
       "      <td>2016-12-31 23:38:41</td>\n",
       "      <td>Lappenbergsallee / Bei der Apostelkirche</td>\n",
       "      <td>243618.0</td>\n",
       "      <td>Allende-Platz/Grindelhof</td>\n",
       "      <td>198077.0</td>\n",
       "      <td>Standort</td>\n",
       "      <td>Hamburg</td>\n",
       "      <td>IVR</td>\n",
       "    </tr>\n",
       "    <tr>\n",
       "      <th>2016-12-31 23:27:05</th>\n",
       "      <td>5702573</td>\n",
       "      <td>51000</td>\n",
       "      <td>108102</td>\n",
       "      <td>2016-12-31 23:27:05</td>\n",
       "      <td>2016-12-31 23:27:05</td>\n",
       "      <td>2016-12-31 23:39:26</td>\n",
       "      <td>Uferstraße/Wagnerstraße</td>\n",
       "      <td>207619.0</td>\n",
       "      <td>Eduard-Rhein-Ufer / Schwanenwik</td>\n",
       "      <td>140800.0</td>\n",
       "      <td>Standort</td>\n",
       "      <td>Hamburg</td>\n",
       "      <td>iPhone SRH</td>\n",
       "    </tr>\n",
       "    <tr>\n",
       "      <th>2016-12-31 22:59:23</th>\n",
       "      <td>5702574</td>\n",
       "      <td>51000</td>\n",
       "      <td>119256</td>\n",
       "      <td>2016-12-31 22:59:23</td>\n",
       "      <td>2016-12-31 22:59:23</td>\n",
       "      <td>2016-12-31 23:40:42</td>\n",
       "      <td>Süderfeldstraße/Universitätsklinikum Eppendorf</td>\n",
       "      <td>201328.0</td>\n",
       "      <td>Thadenstraße/Holstenstraße</td>\n",
       "      <td>252492.0</td>\n",
       "      <td>Standort</td>\n",
       "      <td>Hamburg</td>\n",
       "      <td>Techniker HH_23 (-284-)</td>\n",
       "    </tr>\n",
       "    <tr>\n",
       "      <th>2016-12-31 23:54:05</th>\n",
       "      <td>5702575</td>\n",
       "      <td>51000</td>\n",
       "      <td>120518</td>\n",
       "      <td>2016-12-31 23:54:05</td>\n",
       "      <td>2016-12-31 23:54:05</td>\n",
       "      <td>2017-01-01 00:05:28</td>\n",
       "      <td>Reeseberg/EBV-Anzengruberstraße</td>\n",
       "      <td>241777.0</td>\n",
       "      <td>Harburger Rathausstraße/Deichhausweg</td>\n",
       "      <td>242645.0</td>\n",
       "      <td>Standort</td>\n",
       "      <td>Hamburg</td>\n",
       "      <td>Techniker HH_23 (-284-)</td>\n",
       "    </tr>\n",
       "  </tbody>\n",
       "</table>\n",
       "</div>"
      ],
      "text/plain": [
       "                     Trip_no  CATEGORY_HAL_ID  VEHICLE_HAL_ID  \\\n",
       "DATE_BOOKING                                                    \n",
       "2016-12-31 21:52:28  5702571            51000          117016   \n",
       "2016-12-31 23:20:51  5702572            51000          120842   \n",
       "2016-12-31 23:27:05  5702573            51000          108102   \n",
       "2016-12-31 22:59:23  5702574            51000          119256   \n",
       "2016-12-31 23:54:05  5702575            51000          120518   \n",
       "\n",
       "                          DATE_BOOKING.1            DATE_FROM  \\\n",
       "DATE_BOOKING                                                    \n",
       "2016-12-31 21:52:28  2016-12-31 21:52:28  2016-12-31 21:52:28   \n",
       "2016-12-31 23:20:51  2016-12-31 23:20:51  2016-12-31 23:20:51   \n",
       "2016-12-31 23:27:05  2016-12-31 23:27:05  2016-12-31 23:27:05   \n",
       "2016-12-31 22:59:23  2016-12-31 22:59:23  2016-12-31 22:59:23   \n",
       "2016-12-31 23:54:05  2016-12-31 23:54:05  2016-12-31 23:54:05   \n",
       "\n",
       "                              DATE_UNTIL  \\\n",
       "DATE_BOOKING                               \n",
       "2016-12-31 21:52:28  2016-12-31 22:05:45   \n",
       "2016-12-31 23:20:51  2016-12-31 23:38:41   \n",
       "2016-12-31 23:27:05  2016-12-31 23:39:26   \n",
       "2016-12-31 22:59:23  2016-12-31 23:40:42   \n",
       "2016-12-31 23:54:05  2017-01-01 00:05:28   \n",
       "\n",
       "                                                  START_RENTAL_ZONE  \\\n",
       "DATE_BOOKING                                                          \n",
       "2016-12-31 21:52:28             Koppelstraße/Lokstedter Grenzstraße   \n",
       "2016-12-31 23:20:51        Lappenbergsallee / Bei der Apostelkirche   \n",
       "2016-12-31 23:27:05                         Uferstraße/Wagnerstraße   \n",
       "2016-12-31 22:59:23  Süderfeldstraße/Universitätsklinikum Eppendorf   \n",
       "2016-12-31 23:54:05                 Reeseberg/EBV-Anzengruberstraße   \n",
       "\n",
       "                     START_RENTAL_ZONE_HAL_ID  \\\n",
       "DATE_BOOKING                                    \n",
       "2016-12-31 21:52:28                  213792.0   \n",
       "2016-12-31 23:20:51                  243618.0   \n",
       "2016-12-31 23:27:05                  207619.0   \n",
       "2016-12-31 22:59:23                  201328.0   \n",
       "2016-12-31 23:54:05                  241777.0   \n",
       "\n",
       "                                          END_RENTAL_ZONE  \\\n",
       "DATE_BOOKING                                                \n",
       "2016-12-31 21:52:28            Isestraße / Hoheluftbrücke   \n",
       "2016-12-31 23:20:51              Allende-Platz/Grindelhof   \n",
       "2016-12-31 23:27:05       Eduard-Rhein-Ufer / Schwanenwik   \n",
       "2016-12-31 22:59:23            Thadenstraße/Holstenstraße   \n",
       "2016-12-31 23:54:05  Harburger Rathausstraße/Deichhausweg   \n",
       "\n",
       "                     END_RENTAL_ZONE_HAL_ID RENTAL_ZONE_HAL_SRC  \\\n",
       "DATE_BOOKING                                                      \n",
       "2016-12-31 21:52:28                140804.0            Standort   \n",
       "2016-12-31 23:20:51                198077.0            Standort   \n",
       "2016-12-31 23:27:05                140800.0            Standort   \n",
       "2016-12-31 22:59:23                252492.0            Standort   \n",
       "2016-12-31 23:54:05                242645.0            Standort   \n",
       "\n",
       "                    CITY_RENTAL_ZONE TECHNICAL_INCOME_CHANNEL  \n",
       "DATE_BOOKING                                                   \n",
       "2016-12-31 21:52:28          Hamburg                      IVR  \n",
       "2016-12-31 23:20:51          Hamburg                      IVR  \n",
       "2016-12-31 23:27:05          Hamburg               iPhone SRH  \n",
       "2016-12-31 22:59:23          Hamburg  Techniker HH_23 (-284-)  \n",
       "2016-12-31 23:54:05          Hamburg  Techniker HH_23 (-284-)  "
      ]
     },
     "execution_count": 64,
     "metadata": {},
     "output_type": "execute_result"
    }
   ],
   "source": [
    "d16.tail()"
   ]
  },
  {
   "cell_type": "code",
   "execution_count": 54,
   "metadata": {},
   "outputs": [
    {
     "data": {
      "text/html": [
       "<div>\n",
       "<style>\n",
       "    .dataframe thead tr:only-child th {\n",
       "        text-align: right;\n",
       "    }\n",
       "\n",
       "    .dataframe thead th {\n",
       "        text-align: left;\n",
       "    }\n",
       "\n",
       "    .dataframe tbody tr th {\n",
       "        vertical-align: top;\n",
       "    }\n",
       "</style>\n",
       "<table border=\"1\" class=\"dataframe\">\n",
       "  <thead>\n",
       "    <tr style=\"text-align: right;\">\n",
       "      <th></th>\n",
       "      <th>Trip_no</th>\n",
       "      <th>CATEGORY_HAL_ID</th>\n",
       "      <th>VEHICLE_HAL_ID</th>\n",
       "      <th>DATE_BOOKING.1</th>\n",
       "      <th>DATE_FROM</th>\n",
       "      <th>DATE_UNTIL</th>\n",
       "      <th>START_RENTAL_ZONE</th>\n",
       "      <th>START_RENTAL_ZONE_HAL_ID</th>\n",
       "      <th>END_RENTAL_ZONE</th>\n",
       "      <th>END_RENTAL_ZONE_HAL_ID</th>\n",
       "      <th>RENTAL_ZONE_HAL_SRC</th>\n",
       "      <th>CITY_RENTAL_ZONE</th>\n",
       "      <th>TECHNICAL_INCOME_CHANNEL</th>\n",
       "    </tr>\n",
       "    <tr>\n",
       "      <th>DATE_BOOKING</th>\n",
       "      <th></th>\n",
       "      <th></th>\n",
       "      <th></th>\n",
       "      <th></th>\n",
       "      <th></th>\n",
       "      <th></th>\n",
       "      <th></th>\n",
       "      <th></th>\n",
       "      <th></th>\n",
       "      <th></th>\n",
       "      <th></th>\n",
       "      <th></th>\n",
       "      <th></th>\n",
       "    </tr>\n",
       "  </thead>\n",
       "  <tbody>\n",
       "    <tr>\n",
       "      <th>2017-05-16 07:36:36</th>\n",
       "      <td>1615549</td>\n",
       "      <td>51000</td>\n",
       "      <td>119663</td>\n",
       "      <td>2017-05-16 07:36:36</td>\n",
       "      <td>2017-05-16 07:36:36</td>\n",
       "      <td>2017-05-16 07:44:16</td>\n",
       "      <td>Bahnhof Altona Ost/Max-Brauer-Allee</td>\n",
       "      <td>131646.0</td>\n",
       "      <td>Neuer Pferdemarkt / Beim Grünen Jäger</td>\n",
       "      <td>131890.0</td>\n",
       "      <td>Standort</td>\n",
       "      <td>Hamburg</td>\n",
       "      <td>iPhone SRH</td>\n",
       "    </tr>\n",
       "    <tr>\n",
       "      <th>2017-05-16 07:37:07</th>\n",
       "      <td>1615550</td>\n",
       "      <td>50000</td>\n",
       "      <td>165809</td>\n",
       "      <td>2017-05-16 07:37:07</td>\n",
       "      <td>2017-05-16 07:37:07</td>\n",
       "      <td>2017-05-16 08:09:42</td>\n",
       "      <td>Frankenallee / Schwalbacherstraße</td>\n",
       "      <td>214452.0</td>\n",
       "      <td>Frankenallee / Schwalbacherstraße</td>\n",
       "      <td>214452.0</td>\n",
       "      <td>Standort</td>\n",
       "      <td>Frankfurt am Main</td>\n",
       "      <td>IVR</td>\n",
       "    </tr>\n",
       "    <tr>\n",
       "      <th>2017-05-16 07:40:17</th>\n",
       "      <td>1615551</td>\n",
       "      <td>51000</td>\n",
       "      <td>120488</td>\n",
       "      <td>2017-05-16 07:40:17</td>\n",
       "      <td>2017-05-16 07:40:17</td>\n",
       "      <td>2017-05-16 07:50:07</td>\n",
       "      <td>Weidestraße/Biedermannplatz</td>\n",
       "      <td>211922.0</td>\n",
       "      <td>Mundsburg / Schürbeker Straße</td>\n",
       "      <td>140799.0</td>\n",
       "      <td>Standort</td>\n",
       "      <td>Hamburg</td>\n",
       "      <td>Techniker HH_119 (-2334-)</td>\n",
       "    </tr>\n",
       "    <tr>\n",
       "      <th>2017-05-16 08:02:12</th>\n",
       "      <td>1615552</td>\n",
       "      <td>50000</td>\n",
       "      <td>116623</td>\n",
       "      <td>2017-05-16 08:02:12</td>\n",
       "      <td>2017-05-16 08:02:12</td>\n",
       "      <td>2017-05-23 08:02:12</td>\n",
       "      <td>NaN</td>\n",
       "      <td>NaN</td>\n",
       "      <td>NaN</td>\n",
       "      <td>NaN</td>\n",
       "      <td>NaN</td>\n",
       "      <td>Darmstadt</td>\n",
       "      <td>iPhone CAB</td>\n",
       "    </tr>\n",
       "    <tr>\n",
       "      <th>2017-05-16 08:11:13</th>\n",
       "      <td>1615553</td>\n",
       "      <td>50000</td>\n",
       "      <td>110529</td>\n",
       "      <td>2017-05-16 08:11:13</td>\n",
       "      <td>2017-05-16 08:11:13</td>\n",
       "      <td>2017-05-23 08:11:13</td>\n",
       "      <td>NaN</td>\n",
       "      <td>NaN</td>\n",
       "      <td>NaN</td>\n",
       "      <td>NaN</td>\n",
       "      <td>NaN</td>\n",
       "      <td>Darmstadt</td>\n",
       "      <td>iPhone CAB</td>\n",
       "    </tr>\n",
       "  </tbody>\n",
       "</table>\n",
       "</div>"
      ],
      "text/plain": [
       "                     Trip_no  CATEGORY_HAL_ID  VEHICLE_HAL_ID  \\\n",
       "DATE_BOOKING                                                    \n",
       "2017-05-16 07:36:36  1615549            51000          119663   \n",
       "2017-05-16 07:37:07  1615550            50000          165809   \n",
       "2017-05-16 07:40:17  1615551            51000          120488   \n",
       "2017-05-16 08:02:12  1615552            50000          116623   \n",
       "2017-05-16 08:11:13  1615553            50000          110529   \n",
       "\n",
       "                          DATE_BOOKING.1            DATE_FROM  \\\n",
       "DATE_BOOKING                                                    \n",
       "2017-05-16 07:36:36  2017-05-16 07:36:36  2017-05-16 07:36:36   \n",
       "2017-05-16 07:37:07  2017-05-16 07:37:07  2017-05-16 07:37:07   \n",
       "2017-05-16 07:40:17  2017-05-16 07:40:17  2017-05-16 07:40:17   \n",
       "2017-05-16 08:02:12  2017-05-16 08:02:12  2017-05-16 08:02:12   \n",
       "2017-05-16 08:11:13  2017-05-16 08:11:13  2017-05-16 08:11:13   \n",
       "\n",
       "                              DATE_UNTIL                    START_RENTAL_ZONE  \\\n",
       "DATE_BOOKING                                                                    \n",
       "2017-05-16 07:36:36  2017-05-16 07:44:16  Bahnhof Altona Ost/Max-Brauer-Allee   \n",
       "2017-05-16 07:37:07  2017-05-16 08:09:42    Frankenallee / Schwalbacherstraße   \n",
       "2017-05-16 07:40:17  2017-05-16 07:50:07          Weidestraße/Biedermannplatz   \n",
       "2017-05-16 08:02:12  2017-05-23 08:02:12                                  NaN   \n",
       "2017-05-16 08:11:13  2017-05-23 08:11:13                                  NaN   \n",
       "\n",
       "                     START_RENTAL_ZONE_HAL_ID  \\\n",
       "DATE_BOOKING                                    \n",
       "2017-05-16 07:36:36                  131646.0   \n",
       "2017-05-16 07:37:07                  214452.0   \n",
       "2017-05-16 07:40:17                  211922.0   \n",
       "2017-05-16 08:02:12                       NaN   \n",
       "2017-05-16 08:11:13                       NaN   \n",
       "\n",
       "                                           END_RENTAL_ZONE  \\\n",
       "DATE_BOOKING                                                 \n",
       "2017-05-16 07:36:36  Neuer Pferdemarkt / Beim Grünen Jäger   \n",
       "2017-05-16 07:37:07      Frankenallee / Schwalbacherstraße   \n",
       "2017-05-16 07:40:17          Mundsburg / Schürbeker Straße   \n",
       "2017-05-16 08:02:12                                    NaN   \n",
       "2017-05-16 08:11:13                                    NaN   \n",
       "\n",
       "                     END_RENTAL_ZONE_HAL_ID RENTAL_ZONE_HAL_SRC  \\\n",
       "DATE_BOOKING                                                      \n",
       "2017-05-16 07:36:36                131890.0            Standort   \n",
       "2017-05-16 07:37:07                214452.0            Standort   \n",
       "2017-05-16 07:40:17                140799.0            Standort   \n",
       "2017-05-16 08:02:12                     NaN                 NaN   \n",
       "2017-05-16 08:11:13                     NaN                 NaN   \n",
       "\n",
       "                      CITY_RENTAL_ZONE   TECHNICAL_INCOME_CHANNEL  \n",
       "DATE_BOOKING                                                       \n",
       "2017-05-16 07:36:36            Hamburg                 iPhone SRH  \n",
       "2017-05-16 07:37:07  Frankfurt am Main                        IVR  \n",
       "2017-05-16 07:40:17            Hamburg  Techniker HH_119 (-2334-)  \n",
       "2017-05-16 08:02:12          Darmstadt                 iPhone CAB  \n",
       "2017-05-16 08:11:13          Darmstadt                 iPhone CAB  "
      ]
     },
     "execution_count": 54,
     "metadata": {},
     "output_type": "execute_result"
    }
   ],
   "source": [
    "d17.tail()"
   ]
  },
  {
   "cell_type": "code",
   "execution_count": 36,
   "metadata": {},
   "outputs": [
    {
     "data": {
      "text/plain": [
       "Trip_no                           0\n",
       "CATEGORY_HAL_ID                   0\n",
       "VEHICLE_HAL_ID                    0\n",
       "DATE_BOOKING.1                    0\n",
       "DATE_FROM                         0\n",
       "DATE_UNTIL                        0\n",
       "START_RENTAL_ZONE           1162193\n",
       "START_RENTAL_ZONE_HAL_ID     279712\n",
       "END_RENTAL_ZONE             1173049\n",
       "END_RENTAL_ZONE_HAL_ID       282200\n",
       "RENTAL_ZONE_HAL_SRC          103756\n",
       "CITY_RENTAL_ZONE                  0\n",
       "TECHNICAL_INCOME_CHANNEL      63514\n",
       "dtype: int64"
      ]
     },
     "execution_count": 36,
     "metadata": {},
     "output_type": "execute_result"
    }
   ],
   "source": [
    "d16.isnull().sum()"
   ]
  },
  {
   "cell_type": "code",
   "execution_count": 38,
   "metadata": {},
   "outputs": [
    {
     "data": {
      "text/plain": [
       "Trip_no                          0\n",
       "CATEGORY_HAL_ID                  0\n",
       "VEHICLE_HAL_ID                   0\n",
       "DATE_BOOKING.1                   0\n",
       "DATE_FROM                        0\n",
       "DATE_UNTIL                       0\n",
       "START_RENTAL_ZONE           258054\n",
       "START_RENTAL_ZONE_HAL_ID    109645\n",
       "END_RENTAL_ZONE             262257\n",
       "END_RENTAL_ZONE_HAL_ID      111281\n",
       "RENTAL_ZONE_HAL_SRC          47005\n",
       "CITY_RENTAL_ZONE                 0\n",
       "TECHNICAL_INCOME_CHANNEL     18716\n",
       "dtype: int64"
      ]
     },
     "execution_count": 38,
     "metadata": {},
     "output_type": "execute_result"
    }
   ],
   "source": [
    "d17.isnull().sum()"
   ]
  },
  {
   "cell_type": "code",
   "execution_count": 39,
   "metadata": {
    "collapsed": true
   },
   "outputs": [],
   "source": [
    "d16 = d16.fillna(d16.bfill())"
   ]
  },
  {
   "cell_type": "code",
   "execution_count": 40,
   "metadata": {},
   "outputs": [
    {
     "data": {
      "text/plain": [
       "Trip_no                     0\n",
       "CATEGORY_HAL_ID             0\n",
       "VEHICLE_HAL_ID              0\n",
       "DATE_BOOKING.1              0\n",
       "DATE_FROM                   0\n",
       "DATE_UNTIL                  0\n",
       "START_RENTAL_ZONE           0\n",
       "START_RENTAL_ZONE_HAL_ID    0\n",
       "END_RENTAL_ZONE             0\n",
       "END_RENTAL_ZONE_HAL_ID      0\n",
       "RENTAL_ZONE_HAL_SRC         0\n",
       "CITY_RENTAL_ZONE            0\n",
       "TECHNICAL_INCOME_CHANNEL    0\n",
       "dtype: int64"
      ]
     },
     "execution_count": 40,
     "metadata": {},
     "output_type": "execute_result"
    }
   ],
   "source": [
    "d16.isnull().sum()"
   ]
  },
  {
   "cell_type": "code",
   "execution_count": 41,
   "metadata": {
    "collapsed": true
   },
   "outputs": [],
   "source": [
    "d17 = d17.fillna(d17.bfill())"
   ]
  },
  {
   "cell_type": "code",
   "execution_count": 62,
   "metadata": {},
   "outputs": [
    {
     "data": {
      "image/png": "[encoded data removed]",
      "text/plain": [
       "<matplotlib.figure.Figure at 0x7fb599b6af60>"
      ]
     },
     "metadata": {},
     "output_type": "display_data"
    }
   ],
   "source": [
    "# Analysing first 6 month of bike share\n",
    "\n",
    "import matplotlib.pyplot as plt\n",
    "plt.subplot(121)\n",
    "d16['2016-01-01':'2016-05-16']['Trip_no'].plot(figsize=(15, 6), label=\"2016\",c='blue')\n",
    "plt.subplot(122)\n",
    "d17['Trip_no'].plot(label=\"2017\",c='red')\n",
    "plt.show()"
   ]
  },
  {
   "cell_type": "code",
   "execution_count": 70,
   "metadata": {},
   "outputs": [
    {
     "name": "stdout",
     "output_type": "stream",
     "text": [
      "Total ride in year 2016 :  5702575\n",
      "Total ride in year 2016 (upto may 16):  1637374\n",
      "Total ride in year 2017 (upto may 16) :  1615553\n"
     ]
    }
   ],
   "source": [
    "total_ride_2016 = len(d16)\n",
    "print(\"Total ride in year 2016 : \", total_ride_2016)\n",
    "total_ride_2016_l = len(d16['2016-01-01':'2016-05-16'])\n",
    "print(\"Total ride in year 2016 (upto may 16): \", total_ride_2016_l)\n",
    "total_ride_2017 = len(d17)\n",
    "print(\"Total ride in year 2017 (upto may 16) : \",total_ride_2017)"
   ]
  },
  {
   "cell_type": "code",
   "execution_count": 76,
   "metadata": {},
   "outputs": [
    {
     "name": "stdout",
     "output_type": "stream",
     "text": [
      "46\n",
      "47\n"
     ]
    }
   ],
   "source": [
    "# 1 rental zone increase in 2017\n",
    "print(len(d16['CITY_RENTAL_ZONE'].unique()))\n",
    "print(len(d17['CITY_RENTAL_ZONE'].unique()))"
   ]
  },
  {
   "cell_type": "code",
   "execution_count": 80,
   "metadata": {},
   "outputs": [
    {
     "name": "stdout",
     "output_type": "stream",
     "text": [
      "821\n",
      "817\n"
     ]
    }
   ],
   "source": [
    "# State rental zone decreases\n",
    "\n",
    "print(len(d16['START_RENTAL_ZONE'].unique()))\n",
    "print(len(d17['START_RENTAL_ZONE'].unique()))"
   ]
  },
  {
   "cell_type": "code",
   "execution_count": 79,
   "metadata": {},
   "outputs": [
    {
     "data": {
      "text/plain": [
       "817"
      ]
     },
     "execution_count": 79,
     "metadata": {},
     "output_type": "execute_result"
    }
   ],
   "source": []
  },
  {
   "cell_type": "code",
   "execution_count": 86,
   "metadata": {},
   "outputs": [],
   "source": [
    "d16['DATE_FROM'] = pd.to_datetime(d16['DATE_FROM']) \n",
    "d16['DATE_UNTIL'] = pd.to_datetime(d16['DATE_UNTIL'])\n",
    "\n",
    "d17['DATE_FROM'] = pd.to_datetime(d17['DATE_FROM']) \n",
    "d17['DATE_UNTIL'] = pd.to_datetime(d17['DATE_UNTIL'])"
   ]
  },
  {
   "cell_type": "code",
   "execution_count": 87,
   "metadata": {},
   "outputs": [],
   "source": [
    "d16['Ride_Duration'] =  d16['DATE_UNTIL'] - d16['DATE_FROM'] \n",
    "d17['Ride_Duration'] =  d17['DATE_UNTIL'] - d17['DATE_FROM'] "
   ]
  },
  {
   "cell_type": "code",
   "execution_count": 90,
   "metadata": {},
   "outputs": [
    {
     "data": {
      "text/plain": [
       "count                   5702575\n",
       "mean     0 days 00:30:18.344961\n",
       "std      0 days 12:04:10.139557\n",
       "min             0 days 00:00:01\n",
       "25%             0 days 00:07:03\n",
       "50%             0 days 00:11:53\n",
       "75%             0 days 00:19:56\n",
       "max           448 days 01:00:00\n",
       "Name: Ride_Duration, dtype: object"
      ]
     },
     "execution_count": 90,
     "metadata": {},
     "output_type": "execute_result"
    }
   ],
   "source": [
    "d16['Ride_Duration'].describe()"
   ]
  },
  {
   "cell_type": "code",
   "execution_count": 91,
   "metadata": {},
   "outputs": [
    {
     "data": {
      "text/plain": [
       "count                   1615553\n",
       "mean     0 days 00:27:04.637948\n",
       "std      0 days 06:39:23.130819\n",
       "min             0 days 00:00:01\n",
       "25%             0 days 00:06:45\n",
       "50%             0 days 00:11:10\n",
       "75%             0 days 00:18:37\n",
       "max           140 days 01:00:00\n",
       "Name: Ride_Duration, dtype: object"
      ]
     },
     "execution_count": 91,
     "metadata": {},
     "output_type": "execute_result"
    }
   ],
   "source": [
    "d17['Ride_Duration'].describe()"
   ]
  },
  {
   "cell_type": "code",
   "execution_count": null,
   "metadata": {
    "collapsed": true
   },
   "outputs": [],
   "source": []
  }
 ],
 "metadata": {
  "kernelspec": {
   "display_name": "Python 3",
   "language": "python",
   "name": "python3"
  },
  "language_info": {
   "codemirror_mode": {
    "name": "ipython",
    "version": 3
   },
   "file_extension": ".py",
   "mimetype": "text/x-python",
   "name": "python",
   "nbconvert_exporter": "python",
   "pygments_lexer": "ipython3",
   "version": "3.6.3"
  }
 },
 "nbformat": 4,
 "nbformat_minor": 2
}
