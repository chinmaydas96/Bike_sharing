{
 "cells": [
  {
   "cell_type": "code",
   "execution_count": 1,
   "metadata": {
    "collapsed": true
   },
   "outputs": [],
   "source": [
    "import pandas as pd\n",
    "import numpy as np\n",
    "import matplotlib.pyplot as plt\n",
    "import calendar"
   ]
  },
  {
   "cell_type": "code",
   "execution_count": 2,
   "metadata": {
    "collapsed": true
   },
   "outputs": [],
   "source": [
    "df_2016 = pd.read_csv('2016_Call_a_bike.csv')"
   ]
  },
  {
   "cell_type": "code",
   "execution_count": 3,
   "metadata": {},
   "outputs": [
    {
     "data": {
      "text/plain": [
       "date                         5702575\n",
       "BOOKING_HAL_ID               5702575\n",
       "CATEGORY_HAL_ID              5702575\n",
       "VEHICLE_HAL_ID               5702575\n",
       "CUSTOMER_HAL_ID              5702575\n",
       "DATE_BOOKING                 5702575\n",
       "DATE_FROM                    5702575\n",
       "DATE_UNTIL                   5702575\n",
       "COMPUTE_EXTRA_BOOKING_FEE    5702575\n",
       "TRAVERSE_USE                 5702575\n",
       "DISTANCE                     5702567\n",
       "START_RENTAL_ZONE            4540382\n",
       "START_RENTAL_ZONE_HAL_ID     5422863\n",
       "END_RENTAL_ZONE              4529526\n",
       "END_RENTAL_ZONE_HAL_ID       5420375\n",
       "RENTAL_ZONE_HAL_SRC          5598819\n",
       "CITY_RENTAL_ZONE             5702575\n",
       "TECHNICAL_INCOME_CHANNEL     5639061\n",
       "dtype: int64"
      ]
     },
     "execution_count": 3,
     "metadata": {},
     "output_type": "execute_result"
    }
   ],
   "source": [
    "df_2016.count()"
   ]
  },
  {
   "cell_type": "code",
   "execution_count": 4,
   "metadata": {
    "scrolled": true
   },
   "outputs": [
    {
     "data": {
      "text/html": [
       "<div>\n",
       "<style>\n",
       "    .dataframe thead tr:only-child th {\n",
       "        text-align: right;\n",
       "    }\n",
       "\n",
       "    .dataframe thead th {\n",
       "        text-align: left;\n",
       "    }\n",
       "\n",
       "    .dataframe tbody tr th {\n",
       "        vertical-align: top;\n",
       "    }\n",
       "</style>\n",
       "<table border=\"1\" class=\"dataframe\">\n",
       "  <thead>\n",
       "    <tr style=\"text-align: right;\">\n",
       "      <th></th>\n",
       "      <th>date</th>\n",
       "      <th>BOOKING_HAL_ID</th>\n",
       "      <th>CATEGORY_HAL_ID</th>\n",
       "      <th>VEHICLE_HAL_ID</th>\n",
       "      <th>CUSTOMER_HAL_ID</th>\n",
       "      <th>DATE_BOOKING</th>\n",
       "      <th>DATE_FROM</th>\n",
       "      <th>DATE_UNTIL</th>\n",
       "      <th>COMPUTE_EXTRA_BOOKING_FEE</th>\n",
       "      <th>TRAVERSE_USE</th>\n",
       "      <th>DISTANCE</th>\n",
       "      <th>START_RENTAL_ZONE</th>\n",
       "      <th>START_RENTAL_ZONE_HAL_ID</th>\n",
       "      <th>END_RENTAL_ZONE</th>\n",
       "      <th>END_RENTAL_ZONE_HAL_ID</th>\n",
       "      <th>RENTAL_ZONE_HAL_SRC</th>\n",
       "      <th>CITY_RENTAL_ZONE</th>\n",
       "      <th>TECHNICAL_INCOME_CHANNEL</th>\n",
       "    </tr>\n",
       "  </thead>\n",
       "  <tbody>\n",
       "    <tr>\n",
       "      <th>0</th>\n",
       "      <td>2016-01-01 00:44:49</td>\n",
       "      <td>34948004</td>\n",
       "      <td>51000</td>\n",
       "      <td>108647</td>\n",
       "      <td>0BFC9CA3CA75AEAE16A6BF86913AF5D8613B20BD</td>\n",
       "      <td>2016-01-01 00:44:49</td>\n",
       "      <td>2016-01-01 00:44:49</td>\n",
       "      <td>2016-01-01 01:13:37</td>\n",
       "      <td>Nein</td>\n",
       "      <td>Nein</td>\n",
       "      <td>0.0</td>\n",
       "      <td>Überseering/Mexikoring</td>\n",
       "      <td>213687.0</td>\n",
       "      <td>Bebelallee/Meenkwiese</td>\n",
       "      <td>213855.0</td>\n",
       "      <td>Standort</td>\n",
       "      <td>Hamburg</td>\n",
       "      <td>Android SRH</td>\n",
       "    </tr>\n",
       "    <tr>\n",
       "      <th>1</th>\n",
       "      <td>2016-01-01 00:31:46</td>\n",
       "      <td>34947949</td>\n",
       "      <td>51000</td>\n",
       "      <td>108371</td>\n",
       "      <td>48A88184B22E7171E8A03E34FF32E761DD83CA92</td>\n",
       "      <td>2016-01-01 00:31:46</td>\n",
       "      <td>2016-01-01 00:31:46</td>\n",
       "      <td>2016-01-01 00:58:49</td>\n",
       "      <td>Nein</td>\n",
       "      <td>Nein</td>\n",
       "      <td>0.0</td>\n",
       "      <td>Stadthausbrücke / Neuer Wall</td>\n",
       "      <td>138379.0</td>\n",
       "      <td>Goldbekplatz / Semperstraße</td>\n",
       "      <td>140796.0</td>\n",
       "      <td>Standort</td>\n",
       "      <td>Hamburg</td>\n",
       "      <td>iPhone SRH</td>\n",
       "    </tr>\n",
       "    <tr>\n",
       "      <th>2</th>\n",
       "      <td>2016-01-01 00:38:37</td>\n",
       "      <td>34947974</td>\n",
       "      <td>51000</td>\n",
       "      <td>119829</td>\n",
       "      <td>F84BCAB7154C63B9E4A7E7EA13BB4FA493539A12</td>\n",
       "      <td>2016-01-01 00:38:37</td>\n",
       "      <td>2016-01-01 00:38:37</td>\n",
       "      <td>2016-01-01 00:49:50</td>\n",
       "      <td>Nein</td>\n",
       "      <td>Nein</td>\n",
       "      <td>0.0</td>\n",
       "      <td>Jungfernstieg / Ballindamm</td>\n",
       "      <td>131879.0</td>\n",
       "      <td>Hauptbahnhof Ost / Hachmannplatz</td>\n",
       "      <td>131873.0</td>\n",
       "      <td>Standort</td>\n",
       "      <td>Hamburg</td>\n",
       "      <td>iPhone CAB</td>\n",
       "    </tr>\n",
       "    <tr>\n",
       "      <th>3</th>\n",
       "      <td>2016-01-01 01:11:00</td>\n",
       "      <td>34948134</td>\n",
       "      <td>51000</td>\n",
       "      <td>116810</td>\n",
       "      <td>7D8127DA8F382BF2C3A8FD31202D46A150A513AE</td>\n",
       "      <td>2016-01-01 01:11:00</td>\n",
       "      <td>2016-01-01 01:11:00</td>\n",
       "      <td>2016-01-01 02:26:23</td>\n",
       "      <td>Nein</td>\n",
       "      <td>Nein</td>\n",
       "      <td>0.0</td>\n",
       "      <td>Hudtwalckerstraße / Bebelallee</td>\n",
       "      <td>138378.0</td>\n",
       "      <td>Kellinghusenstraße / Loogeplatz</td>\n",
       "      <td>140795.0</td>\n",
       "      <td>Standort</td>\n",
       "      <td>Hamburg</td>\n",
       "      <td>Terminal HH_72 (-2369-)</td>\n",
       "    </tr>\n",
       "    <tr>\n",
       "      <th>4</th>\n",
       "      <td>2016-01-01 01:06:17</td>\n",
       "      <td>34948107</td>\n",
       "      <td>51000</td>\n",
       "      <td>120345</td>\n",
       "      <td>AEE37262F04CB04681868F6E8CEE2D7F9CDA6997</td>\n",
       "      <td>2016-01-01 01:06:17</td>\n",
       "      <td>2016-01-01 01:06:17</td>\n",
       "      <td>2016-01-01 01:15:16</td>\n",
       "      <td>Nein</td>\n",
       "      <td>Nein</td>\n",
       "      <td>0.0</td>\n",
       "      <td>Bahnhof Dammtor Nord // Theodor-Heuss-Platz</td>\n",
       "      <td>131883.0</td>\n",
       "      <td>Feldstraße / Marktstraße</td>\n",
       "      <td>244093.0</td>\n",
       "      <td>Standort</td>\n",
       "      <td>Hamburg</td>\n",
       "      <td>Android SRH</td>\n",
       "    </tr>\n",
       "  </tbody>\n",
       "</table>\n",
       "</div>"
      ],
      "text/plain": [
       "                  date  BOOKING_HAL_ID  CATEGORY_HAL_ID  VEHICLE_HAL_ID  \\\n",
       "0  2016-01-01 00:44:49        34948004            51000          108647   \n",
       "1  2016-01-01 00:31:46        34947949            51000          108371   \n",
       "2  2016-01-01 00:38:37        34947974            51000          119829   \n",
       "3  2016-01-01 01:11:00        34948134            51000          116810   \n",
       "4  2016-01-01 01:06:17        34948107            51000          120345   \n",
       "\n",
       "                            CUSTOMER_HAL_ID         DATE_BOOKING  \\\n",
       "0  0BFC9CA3CA75AEAE16A6BF86913AF5D8613B20BD  2016-01-01 00:44:49   \n",
       "1  48A88184B22E7171E8A03E34FF32E761DD83CA92  2016-01-01 00:31:46   \n",
       "2  F84BCAB7154C63B9E4A7E7EA13BB4FA493539A12  2016-01-01 00:38:37   \n",
       "3  7D8127DA8F382BF2C3A8FD31202D46A150A513AE  2016-01-01 01:11:00   \n",
       "4  AEE37262F04CB04681868F6E8CEE2D7F9CDA6997  2016-01-01 01:06:17   \n",
       "\n",
       "             DATE_FROM           DATE_UNTIL COMPUTE_EXTRA_BOOKING_FEE  \\\n",
       "0  2016-01-01 00:44:49  2016-01-01 01:13:37                      Nein   \n",
       "1  2016-01-01 00:31:46  2016-01-01 00:58:49                      Nein   \n",
       "2  2016-01-01 00:38:37  2016-01-01 00:49:50                      Nein   \n",
       "3  2016-01-01 01:11:00  2016-01-01 02:26:23                      Nein   \n",
       "4  2016-01-01 01:06:17  2016-01-01 01:15:16                      Nein   \n",
       "\n",
       "  TRAVERSE_USE  DISTANCE                            START_RENTAL_ZONE  \\\n",
       "0         Nein       0.0                       Überseering/Mexikoring   \n",
       "1         Nein       0.0                 Stadthausbrücke / Neuer Wall   \n",
       "2         Nein       0.0                   Jungfernstieg / Ballindamm   \n",
       "3         Nein       0.0               Hudtwalckerstraße / Bebelallee   \n",
       "4         Nein       0.0  Bahnhof Dammtor Nord // Theodor-Heuss-Platz   \n",
       "\n",
       "   START_RENTAL_ZONE_HAL_ID                   END_RENTAL_ZONE  \\\n",
       "0                  213687.0             Bebelallee/Meenkwiese   \n",
       "1                  138379.0       Goldbekplatz / Semperstraße   \n",
       "2                  131879.0  Hauptbahnhof Ost / Hachmannplatz   \n",
       "3                  138378.0   Kellinghusenstraße / Loogeplatz   \n",
       "4                  131883.0          Feldstraße / Marktstraße   \n",
       "\n",
       "   END_RENTAL_ZONE_HAL_ID RENTAL_ZONE_HAL_SRC CITY_RENTAL_ZONE  \\\n",
       "0                213855.0            Standort          Hamburg   \n",
       "1                140796.0            Standort          Hamburg   \n",
       "2                131873.0            Standort          Hamburg   \n",
       "3                140795.0            Standort          Hamburg   \n",
       "4                244093.0            Standort          Hamburg   \n",
       "\n",
       "  TECHNICAL_INCOME_CHANNEL  \n",
       "0              Android SRH  \n",
       "1               iPhone SRH  \n",
       "2               iPhone CAB  \n",
       "3  Terminal HH_72 (-2369-)  \n",
       "4              Android SRH  "
      ]
     },
     "execution_count": 4,
     "metadata": {},
     "output_type": "execute_result"
    }
   ],
   "source": [
    "df_2016.head()"
   ]
  },
  {
   "cell_type": "code",
   "execution_count": 5,
   "metadata": {},
   "outputs": [],
   "source": [
    "df_2016.drop(['COMPUTE_EXTRA_BOOKING_FEE', 'TRAVERSE_USE', 'DISTANCE', 'BOOKING_HAL_ID', 'CUSTOMER_HAL_ID'], axis=1, inplace=True)"
   ]
  },
  {
   "cell_type": "code",
   "execution_count": 6,
   "metadata": {
    "collapsed": true
   },
   "outputs": [],
   "source": [
    "CITY = df_2016.CITY_RENTAL_ZONE.unique()"
   ]
  },
  {
   "cell_type": "code",
   "execution_count": 7,
   "metadata": {
    "collapsed": true
   },
   "outputs": [],
   "source": [
    "category = df_2016.CATEGORY_HAL_ID.unique()"
   ]
  },
  {
   "cell_type": "code",
   "execution_count": 8,
   "metadata": {},
   "outputs": [
    {
     "data": {
      "text/html": [
       "<div>\n",
       "<style>\n",
       "    .dataframe thead tr:only-child th {\n",
       "        text-align: right;\n",
       "    }\n",
       "\n",
       "    .dataframe thead th {\n",
       "        text-align: left;\n",
       "    }\n",
       "\n",
       "    .dataframe tbody tr th {\n",
       "        vertical-align: top;\n",
       "    }\n",
       "</style>\n",
       "<table border=\"1\" class=\"dataframe\">\n",
       "  <thead>\n",
       "    <tr style=\"text-align: right;\">\n",
       "      <th></th>\n",
       "      <th>date</th>\n",
       "      <th>CATEGORY_HAL_ID</th>\n",
       "      <th>VEHICLE_HAL_ID</th>\n",
       "      <th>DATE_BOOKING</th>\n",
       "      <th>DATE_FROM</th>\n",
       "      <th>DATE_UNTIL</th>\n",
       "      <th>START_RENTAL_ZONE</th>\n",
       "      <th>START_RENTAL_ZONE_HAL_ID</th>\n",
       "      <th>END_RENTAL_ZONE</th>\n",
       "      <th>END_RENTAL_ZONE_HAL_ID</th>\n",
       "      <th>RENTAL_ZONE_HAL_SRC</th>\n",
       "      <th>CITY_RENTAL_ZONE</th>\n",
       "      <th>TECHNICAL_INCOME_CHANNEL</th>\n",
       "    </tr>\n",
       "  </thead>\n",
       "  <tbody>\n",
       "    <tr>\n",
       "      <th>0</th>\n",
       "      <td>2016-01-01 00:44:49</td>\n",
       "      <td>51000</td>\n",
       "      <td>108647</td>\n",
       "      <td>2016-01-01 00:44:49</td>\n",
       "      <td>2016-01-01 00:44:49</td>\n",
       "      <td>2016-01-01 01:13:37</td>\n",
       "      <td>Überseering/Mexikoring</td>\n",
       "      <td>213687.0</td>\n",
       "      <td>Bebelallee/Meenkwiese</td>\n",
       "      <td>213855.0</td>\n",
       "      <td>Standort</td>\n",
       "      <td>Hamburg</td>\n",
       "      <td>Android SRH</td>\n",
       "    </tr>\n",
       "    <tr>\n",
       "      <th>1</th>\n",
       "      <td>2016-01-01 00:31:46</td>\n",
       "      <td>51000</td>\n",
       "      <td>108371</td>\n",
       "      <td>2016-01-01 00:31:46</td>\n",
       "      <td>2016-01-01 00:31:46</td>\n",
       "      <td>2016-01-01 00:58:49</td>\n",
       "      <td>Stadthausbrücke / Neuer Wall</td>\n",
       "      <td>138379.0</td>\n",
       "      <td>Goldbekplatz / Semperstraße</td>\n",
       "      <td>140796.0</td>\n",
       "      <td>Standort</td>\n",
       "      <td>Hamburg</td>\n",
       "      <td>iPhone SRH</td>\n",
       "    </tr>\n",
       "    <tr>\n",
       "      <th>2</th>\n",
       "      <td>2016-01-01 00:38:37</td>\n",
       "      <td>51000</td>\n",
       "      <td>119829</td>\n",
       "      <td>2016-01-01 00:38:37</td>\n",
       "      <td>2016-01-01 00:38:37</td>\n",
       "      <td>2016-01-01 00:49:50</td>\n",
       "      <td>Jungfernstieg / Ballindamm</td>\n",
       "      <td>131879.0</td>\n",
       "      <td>Hauptbahnhof Ost / Hachmannplatz</td>\n",
       "      <td>131873.0</td>\n",
       "      <td>Standort</td>\n",
       "      <td>Hamburg</td>\n",
       "      <td>iPhone CAB</td>\n",
       "    </tr>\n",
       "    <tr>\n",
       "      <th>3</th>\n",
       "      <td>2016-01-01 01:11:00</td>\n",
       "      <td>51000</td>\n",
       "      <td>116810</td>\n",
       "      <td>2016-01-01 01:11:00</td>\n",
       "      <td>2016-01-01 01:11:00</td>\n",
       "      <td>2016-01-01 02:26:23</td>\n",
       "      <td>Hudtwalckerstraße / Bebelallee</td>\n",
       "      <td>138378.0</td>\n",
       "      <td>Kellinghusenstraße / Loogeplatz</td>\n",
       "      <td>140795.0</td>\n",
       "      <td>Standort</td>\n",
       "      <td>Hamburg</td>\n",
       "      <td>Terminal HH_72 (-2369-)</td>\n",
       "    </tr>\n",
       "    <tr>\n",
       "      <th>4</th>\n",
       "      <td>2016-01-01 01:06:17</td>\n",
       "      <td>51000</td>\n",
       "      <td>120345</td>\n",
       "      <td>2016-01-01 01:06:17</td>\n",
       "      <td>2016-01-01 01:06:17</td>\n",
       "      <td>2016-01-01 01:15:16</td>\n",
       "      <td>Bahnhof Dammtor Nord // Theodor-Heuss-Platz</td>\n",
       "      <td>131883.0</td>\n",
       "      <td>Feldstraße / Marktstraße</td>\n",
       "      <td>244093.0</td>\n",
       "      <td>Standort</td>\n",
       "      <td>Hamburg</td>\n",
       "      <td>Android SRH</td>\n",
       "    </tr>\n",
       "  </tbody>\n",
       "</table>\n",
       "</div>"
      ],
      "text/plain": [
       "                  date  CATEGORY_HAL_ID  VEHICLE_HAL_ID         DATE_BOOKING  \\\n",
       "0  2016-01-01 00:44:49            51000          108647  2016-01-01 00:44:49   \n",
       "1  2016-01-01 00:31:46            51000          108371  2016-01-01 00:31:46   \n",
       "2  2016-01-01 00:38:37            51000          119829  2016-01-01 00:38:37   \n",
       "3  2016-01-01 01:11:00            51000          116810  2016-01-01 01:11:00   \n",
       "4  2016-01-01 01:06:17            51000          120345  2016-01-01 01:06:17   \n",
       "\n",
       "             DATE_FROM           DATE_UNTIL  \\\n",
       "0  2016-01-01 00:44:49  2016-01-01 01:13:37   \n",
       "1  2016-01-01 00:31:46  2016-01-01 00:58:49   \n",
       "2  2016-01-01 00:38:37  2016-01-01 00:49:50   \n",
       "3  2016-01-01 01:11:00  2016-01-01 02:26:23   \n",
       "4  2016-01-01 01:06:17  2016-01-01 01:15:16   \n",
       "\n",
       "                             START_RENTAL_ZONE  START_RENTAL_ZONE_HAL_ID  \\\n",
       "0                       Überseering/Mexikoring                  213687.0   \n",
       "1                 Stadthausbrücke / Neuer Wall                  138379.0   \n",
       "2                   Jungfernstieg / Ballindamm                  131879.0   \n",
       "3               Hudtwalckerstraße / Bebelallee                  138378.0   \n",
       "4  Bahnhof Dammtor Nord // Theodor-Heuss-Platz                  131883.0   \n",
       "\n",
       "                    END_RENTAL_ZONE  END_RENTAL_ZONE_HAL_ID  \\\n",
       "0             Bebelallee/Meenkwiese                213855.0   \n",
       "1       Goldbekplatz / Semperstraße                140796.0   \n",
       "2  Hauptbahnhof Ost / Hachmannplatz                131873.0   \n",
       "3   Kellinghusenstraße / Loogeplatz                140795.0   \n",
       "4          Feldstraße / Marktstraße                244093.0   \n",
       "\n",
       "  RENTAL_ZONE_HAL_SRC CITY_RENTAL_ZONE TECHNICAL_INCOME_CHANNEL  \n",
       "0            Standort          Hamburg              Android SRH  \n",
       "1            Standort          Hamburg               iPhone SRH  \n",
       "2            Standort          Hamburg               iPhone CAB  \n",
       "3            Standort          Hamburg  Terminal HH_72 (-2369-)  \n",
       "4            Standort          Hamburg              Android SRH  "
      ]
     },
     "execution_count": 8,
     "metadata": {},
     "output_type": "execute_result"
    }
   ],
   "source": [
    "df_2016.head()"
   ]
  },
  {
   "cell_type": "code",
   "execution_count": 9,
   "metadata": {},
   "outputs": [
    {
     "name": "stdout",
     "output_type": "stream",
     "text": [
      "46\n",
      "4\n"
     ]
    }
   ],
   "source": [
    "print(len(CITY))\n",
    "print(len(category))"
   ]
  },
  {
   "cell_type": "code",
   "execution_count": 10,
   "metadata": {
    "collapsed": true
   },
   "outputs": [],
   "source": [
    "city_dict = {}\n",
    "cities, city_count = [],[]\n",
    "for city in CITY:\n",
    "    city_dict[city] = len(df_2016[df_2016['CITY_RENTAL_ZONE']==city])\n",
    "    cities.append(city)\n",
    "    city_count.append(city_dict[city])"
   ]
  },
  {
   "cell_type": "code",
   "execution_count": 11,
   "metadata": {},
   "outputs": [
    {
     "name": "stdout",
     "output_type": "stream",
     "text": [
      "{'Hamburg': 3044382, 'Kassel': 171786, 'Darmstadt': 244063, 'Frankfurt am Main': 911954, 'Marburg': 187279, 'Berlin': 334049, 'Stuttgart': 169310, 'Köln': 232085, 'München': 349944, 'Wiesbaden': 17025, 'Rüsselsheim': 30378, 'Weimar': 61, 'Mannheim': 270, 'Karlsruhe': 322, 'Bonn': 366, 'Halle': 906, 'Lübeck': 138, 'Baden-Baden': 821, 'Bamberg': 104, 'Göttingen': 344, 'Flugh. Frankfurt': 3084, 'Oberhausen': 24, 'Freiburg': 229, 'Kiel': 1135, 'Würzburg': 126, 'Erlangen': 62, 'Düsseldorf': 232, 'Fulda': 67, 'Troisdorf': 295, 'Oldenburg (Oldb)': 29, 'Heidelberg': 282, 'Warnemünde': 31, 'Gütersloh': 20, 'Bremen': 232, 'Mainz': 171, 'Saarbrücken': 86, 'Hannover': 387, 'Aschaffenburg': 67, 'Rostock': 54, 'Hanau': 77, 'Ingolstadt': 51, 'Braunschweig': 81, 'Magdeburg': 84, 'Kaiserslautern': 35, 'Bielefeld': 41, 'Hennef': 6}\n"
     ]
    }
   ],
   "source": [
    "print(city_dict)"
   ]
  },
  {
   "cell_type": "code",
   "execution_count": 12,
   "metadata": {},
   "outputs": [
    {
     "data": {
      "image/png": "[encoded data removed]",
      "text/plain": [
       "<matplotlib.figure.Figure at 0x7f0137edb438>"
      ]
     },
     "metadata": {},
     "output_type": "display_data"
    }
   ],
   "source": [
    "x_plot = np.arange(len(cities))\n",
    "plt.figure(figsize=(16,6))\n",
    "plt.title('Cities', fontsize=15, fontweight='bold')\n",
    "p = plt.bar(x_plot+1, city_count)\n",
    "plt.xticks(x_plot+1, cities, rotation = 'vertical')\n",
    "plt.show()"
   ]
  },
  {
   "cell_type": "code",
   "execution_count": 13,
   "metadata": {
    "collapsed": true
   },
   "outputs": [],
   "source": [
    "category_dict = {}\n",
    "categories, category_count = [],[]\n",
    "for c in category:\n",
    "    category_dict[c] = len(df_2016[df_2016['CATEGORY_HAL_ID']==c])\n",
    "    categories.append(c)\n",
    "    category_count.append(category_dict[c])"
   ]
  },
  {
   "cell_type": "code",
   "execution_count": 14,
   "metadata": {},
   "outputs": [
    {
     "name": "stdout",
     "output_type": "stream",
     "text": [
      "{51000: 3044382, 53000: 171786, 50000: 2465954, 50001: 20453}\n"
     ]
    }
   ],
   "source": [
    "print(category_dict)"
   ]
  },
  {
   "cell_type": "code",
   "execution_count": 15,
   "metadata": {},
   "outputs": [
    {
     "data": {
      "image/png": "[encoded data removed]",
      "text/plain": [
       "<matplotlib.figure.Figure at 0x7f018dcafac8>"
      ]
     },
     "metadata": {},
     "output_type": "display_data"
    }
   ],
   "source": [
    "x_plot = np.arange(len(categories))\n",
    "plt.figure(figsize=(8,6))\n",
    "plt.title('Category', fontsize=15, fontweight='bold')\n",
    "p = plt.bar(x_plot+1, category_count)\n",
    "plt.xticks(x_plot+1, categories, rotation = 'vertical')\n",
    "plt.show()"
   ]
  },
  {
   "cell_type": "code",
   "execution_count": 16,
   "metadata": {},
   "outputs": [
    {
     "data": {
      "image/png": "[encoded data removed]",
      "text/plain": [
       "<matplotlib.figure.Figure at 0x7f018dc6a978>"
      ]
     },
     "metadata": {},
     "output_type": "display_data"
    }
   ],
   "source": [
    "colors = [\"#0AB9FB\", \"#5CD1FE\",\"#8BDAF9\", \"#ACE6FD\",\"#0098D4\"]\n",
    "plt.figure(figsize=(5,5))\n",
    "plt.title('Category', fontsize=15, fontweight='bold')\n",
    "plt.pie(category_count, labels=categories)\n",
    "plt.legend(categories, fontsize = 'large', loc = \"best\")\n",
    "plt.tight_layout()\n",
    "plt.show()"
   ]
  },
  {
   "cell_type": "code",
   "execution_count": 17,
   "metadata": {},
   "outputs": [
    {
     "data": {
      "text/html": [
       "<div>\n",
       "<style>\n",
       "    .dataframe thead tr:only-child th {\n",
       "        text-align: right;\n",
       "    }\n",
       "\n",
       "    .dataframe thead th {\n",
       "        text-align: left;\n",
       "    }\n",
       "\n",
       "    .dataframe tbody tr th {\n",
       "        vertical-align: top;\n",
       "    }\n",
       "</style>\n",
       "<table border=\"1\" class=\"dataframe\">\n",
       "  <thead>\n",
       "    <tr style=\"text-align: right;\">\n",
       "      <th></th>\n",
       "      <th>CATEGORY_HAL_ID</th>\n",
       "      <th>VEHICLE_HAL_ID</th>\n",
       "      <th>DATE_BOOKING</th>\n",
       "      <th>DATE_FROM</th>\n",
       "      <th>DATE_UNTIL</th>\n",
       "      <th>START_RENTAL_ZONE</th>\n",
       "      <th>START_RENTAL_ZONE_HAL_ID</th>\n",
       "      <th>END_RENTAL_ZONE</th>\n",
       "      <th>END_RENTAL_ZONE_HAL_ID</th>\n",
       "      <th>RENTAL_ZONE_HAL_SRC</th>\n",
       "      <th>CITY_RENTAL_ZONE</th>\n",
       "      <th>TECHNICAL_INCOME_CHANNEL</th>\n",
       "    </tr>\n",
       "  </thead>\n",
       "  <tbody>\n",
       "    <tr>\n",
       "      <th>0</th>\n",
       "      <td>51000</td>\n",
       "      <td>108647</td>\n",
       "      <td>2016-01-01 00:44:49</td>\n",
       "      <td>2016-01-01 00:44:49</td>\n",
       "      <td>2016-01-01 01:13:37</td>\n",
       "      <td>Überseering/Mexikoring</td>\n",
       "      <td>213687.0</td>\n",
       "      <td>Bebelallee/Meenkwiese</td>\n",
       "      <td>213855.0</td>\n",
       "      <td>Standort</td>\n",
       "      <td>Hamburg</td>\n",
       "      <td>Android SRH</td>\n",
       "    </tr>\n",
       "    <tr>\n",
       "      <th>1</th>\n",
       "      <td>51000</td>\n",
       "      <td>108371</td>\n",
       "      <td>2016-01-01 00:31:46</td>\n",
       "      <td>2016-01-01 00:31:46</td>\n",
       "      <td>2016-01-01 00:58:49</td>\n",
       "      <td>Stadthausbrücke / Neuer Wall</td>\n",
       "      <td>138379.0</td>\n",
       "      <td>Goldbekplatz / Semperstraße</td>\n",
       "      <td>140796.0</td>\n",
       "      <td>Standort</td>\n",
       "      <td>Hamburg</td>\n",
       "      <td>iPhone SRH</td>\n",
       "    </tr>\n",
       "    <tr>\n",
       "      <th>2</th>\n",
       "      <td>51000</td>\n",
       "      <td>119829</td>\n",
       "      <td>2016-01-01 00:38:37</td>\n",
       "      <td>2016-01-01 00:38:37</td>\n",
       "      <td>2016-01-01 00:49:50</td>\n",
       "      <td>Jungfernstieg / Ballindamm</td>\n",
       "      <td>131879.0</td>\n",
       "      <td>Hauptbahnhof Ost / Hachmannplatz</td>\n",
       "      <td>131873.0</td>\n",
       "      <td>Standort</td>\n",
       "      <td>Hamburg</td>\n",
       "      <td>iPhone CAB</td>\n",
       "    </tr>\n",
       "    <tr>\n",
       "      <th>3</th>\n",
       "      <td>51000</td>\n",
       "      <td>116810</td>\n",
       "      <td>2016-01-01 01:11:00</td>\n",
       "      <td>2016-01-01 01:11:00</td>\n",
       "      <td>2016-01-01 02:26:23</td>\n",
       "      <td>Hudtwalckerstraße / Bebelallee</td>\n",
       "      <td>138378.0</td>\n",
       "      <td>Kellinghusenstraße / Loogeplatz</td>\n",
       "      <td>140795.0</td>\n",
       "      <td>Standort</td>\n",
       "      <td>Hamburg</td>\n",
       "      <td>Terminal HH_72 (-2369-)</td>\n",
       "    </tr>\n",
       "    <tr>\n",
       "      <th>4</th>\n",
       "      <td>51000</td>\n",
       "      <td>120345</td>\n",
       "      <td>2016-01-01 01:06:17</td>\n",
       "      <td>2016-01-01 01:06:17</td>\n",
       "      <td>2016-01-01 01:15:16</td>\n",
       "      <td>Bahnhof Dammtor Nord // Theodor-Heuss-Platz</td>\n",
       "      <td>131883.0</td>\n",
       "      <td>Feldstraße / Marktstraße</td>\n",
       "      <td>244093.0</td>\n",
       "      <td>Standort</td>\n",
       "      <td>Hamburg</td>\n",
       "      <td>Android SRH</td>\n",
       "    </tr>\n",
       "  </tbody>\n",
       "</table>\n",
       "</div>"
      ],
      "text/plain": [
       "   CATEGORY_HAL_ID  VEHICLE_HAL_ID         DATE_BOOKING            DATE_FROM  \\\n",
       "0            51000          108647  2016-01-01 00:44:49  2016-01-01 00:44:49   \n",
       "1            51000          108371  2016-01-01 00:31:46  2016-01-01 00:31:46   \n",
       "2            51000          119829  2016-01-01 00:38:37  2016-01-01 00:38:37   \n",
       "3            51000          116810  2016-01-01 01:11:00  2016-01-01 01:11:00   \n",
       "4            51000          120345  2016-01-01 01:06:17  2016-01-01 01:06:17   \n",
       "\n",
       "            DATE_UNTIL                            START_RENTAL_ZONE  \\\n",
       "0  2016-01-01 01:13:37                       Überseering/Mexikoring   \n",
       "1  2016-01-01 00:58:49                 Stadthausbrücke / Neuer Wall   \n",
       "2  2016-01-01 00:49:50                   Jungfernstieg / Ballindamm   \n",
       "3  2016-01-01 02:26:23               Hudtwalckerstraße / Bebelallee   \n",
       "4  2016-01-01 01:15:16  Bahnhof Dammtor Nord // Theodor-Heuss-Platz   \n",
       "\n",
       "   START_RENTAL_ZONE_HAL_ID                   END_RENTAL_ZONE  \\\n",
       "0                  213687.0             Bebelallee/Meenkwiese   \n",
       "1                  138379.0       Goldbekplatz / Semperstraße   \n",
       "2                  131879.0  Hauptbahnhof Ost / Hachmannplatz   \n",
       "3                  138378.0   Kellinghusenstraße / Loogeplatz   \n",
       "4                  131883.0          Feldstraße / Marktstraße   \n",
       "\n",
       "   END_RENTAL_ZONE_HAL_ID RENTAL_ZONE_HAL_SRC CITY_RENTAL_ZONE  \\\n",
       "0                213855.0            Standort          Hamburg   \n",
       "1                140796.0            Standort          Hamburg   \n",
       "2                131873.0            Standort          Hamburg   \n",
       "3                140795.0            Standort          Hamburg   \n",
       "4                244093.0            Standort          Hamburg   \n",
       "\n",
       "  TECHNICAL_INCOME_CHANNEL  \n",
       "0              Android SRH  \n",
       "1               iPhone SRH  \n",
       "2               iPhone CAB  \n",
       "3  Terminal HH_72 (-2369-)  \n",
       "4              Android SRH  "
      ]
     },
     "execution_count": 17,
     "metadata": {},
     "output_type": "execute_result"
    }
   ],
   "source": [
    "del df_2016['date']\n",
    "df_2016.head()"
   ]
  },
  {
   "cell_type": "code",
   "execution_count": 18,
   "metadata": {},
   "outputs": [],
   "source": [
    "df_2016['DATE_BOOKING'] = pd.to_datetime(df_2016['DATE_BOOKING'])"
   ]
  },
  {
   "cell_type": "code",
   "execution_count": 19,
   "metadata": {},
   "outputs": [
    {
     "data": {
      "text/html": [
       "<div>\n",
       "<style>\n",
       "    .dataframe thead tr:only-child th {\n",
       "        text-align: right;\n",
       "    }\n",
       "\n",
       "    .dataframe thead th {\n",
       "        text-align: left;\n",
       "    }\n",
       "\n",
       "    .dataframe tbody tr th {\n",
       "        vertical-align: top;\n",
       "    }\n",
       "</style>\n",
       "<table border=\"1\" class=\"dataframe\">\n",
       "  <thead>\n",
       "    <tr style=\"text-align: right;\">\n",
       "      <th></th>\n",
       "      <th>CATEGORY_HAL_ID</th>\n",
       "      <th>VEHICLE_HAL_ID</th>\n",
       "      <th>DATE_BOOKING</th>\n",
       "      <th>DATE_FROM</th>\n",
       "      <th>DATE_UNTIL</th>\n",
       "      <th>START_RENTAL_ZONE</th>\n",
       "      <th>START_RENTAL_ZONE_HAL_ID</th>\n",
       "      <th>END_RENTAL_ZONE</th>\n",
       "      <th>END_RENTAL_ZONE_HAL_ID</th>\n",
       "      <th>RENTAL_ZONE_HAL_SRC</th>\n",
       "      <th>CITY_RENTAL_ZONE</th>\n",
       "      <th>TECHNICAL_INCOME_CHANNEL</th>\n",
       "    </tr>\n",
       "    <tr>\n",
       "      <th>DATE_BOOKING</th>\n",
       "      <th></th>\n",
       "      <th></th>\n",
       "      <th></th>\n",
       "      <th></th>\n",
       "      <th></th>\n",
       "      <th></th>\n",
       "      <th></th>\n",
       "      <th></th>\n",
       "      <th></th>\n",
       "      <th></th>\n",
       "      <th></th>\n",
       "      <th></th>\n",
       "    </tr>\n",
       "  </thead>\n",
       "  <tbody>\n",
       "    <tr>\n",
       "      <th>2016-01-01 00:44:49</th>\n",
       "      <td>51000</td>\n",
       "      <td>108647</td>\n",
       "      <td>2016-01-01 00:44:49</td>\n",
       "      <td>2016-01-01 00:44:49</td>\n",
       "      <td>2016-01-01 01:13:37</td>\n",
       "      <td>Überseering/Mexikoring</td>\n",
       "      <td>213687.0</td>\n",
       "      <td>Bebelallee/Meenkwiese</td>\n",
       "      <td>213855.0</td>\n",
       "      <td>Standort</td>\n",
       "      <td>Hamburg</td>\n",
       "      <td>Android SRH</td>\n",
       "    </tr>\n",
       "    <tr>\n",
       "      <th>2016-01-01 00:31:46</th>\n",
       "      <td>51000</td>\n",
       "      <td>108371</td>\n",
       "      <td>2016-01-01 00:31:46</td>\n",
       "      <td>2016-01-01 00:31:46</td>\n",
       "      <td>2016-01-01 00:58:49</td>\n",
       "      <td>Stadthausbrücke / Neuer Wall</td>\n",
       "      <td>138379.0</td>\n",
       "      <td>Goldbekplatz / Semperstraße</td>\n",
       "      <td>140796.0</td>\n",
       "      <td>Standort</td>\n",
       "      <td>Hamburg</td>\n",
       "      <td>iPhone SRH</td>\n",
       "    </tr>\n",
       "    <tr>\n",
       "      <th>2016-01-01 00:38:37</th>\n",
       "      <td>51000</td>\n",
       "      <td>119829</td>\n",
       "      <td>2016-01-01 00:38:37</td>\n",
       "      <td>2016-01-01 00:38:37</td>\n",
       "      <td>2016-01-01 00:49:50</td>\n",
       "      <td>Jungfernstieg / Ballindamm</td>\n",
       "      <td>131879.0</td>\n",
       "      <td>Hauptbahnhof Ost / Hachmannplatz</td>\n",
       "      <td>131873.0</td>\n",
       "      <td>Standort</td>\n",
       "      <td>Hamburg</td>\n",
       "      <td>iPhone CAB</td>\n",
       "    </tr>\n",
       "    <tr>\n",
       "      <th>2016-01-01 01:11:00</th>\n",
       "      <td>51000</td>\n",
       "      <td>116810</td>\n",
       "      <td>2016-01-01 01:11:00</td>\n",
       "      <td>2016-01-01 01:11:00</td>\n",
       "      <td>2016-01-01 02:26:23</td>\n",
       "      <td>Hudtwalckerstraße / Bebelallee</td>\n",
       "      <td>138378.0</td>\n",
       "      <td>Kellinghusenstraße / Loogeplatz</td>\n",
       "      <td>140795.0</td>\n",
       "      <td>Standort</td>\n",
       "      <td>Hamburg</td>\n",
       "      <td>Terminal HH_72 (-2369-)</td>\n",
       "    </tr>\n",
       "    <tr>\n",
       "      <th>2016-01-01 01:06:17</th>\n",
       "      <td>51000</td>\n",
       "      <td>120345</td>\n",
       "      <td>2016-01-01 01:06:17</td>\n",
       "      <td>2016-01-01 01:06:17</td>\n",
       "      <td>2016-01-01 01:15:16</td>\n",
       "      <td>Bahnhof Dammtor Nord // Theodor-Heuss-Platz</td>\n",
       "      <td>131883.0</td>\n",
       "      <td>Feldstraße / Marktstraße</td>\n",
       "      <td>244093.0</td>\n",
       "      <td>Standort</td>\n",
       "      <td>Hamburg</td>\n",
       "      <td>Android SRH</td>\n",
       "    </tr>\n",
       "  </tbody>\n",
       "</table>\n",
       "</div>"
      ],
      "text/plain": [
       "                     CATEGORY_HAL_ID  VEHICLE_HAL_ID        DATE_BOOKING  \\\n",
       "DATE_BOOKING                                                               \n",
       "2016-01-01 00:44:49            51000          108647 2016-01-01 00:44:49   \n",
       "2016-01-01 00:31:46            51000          108371 2016-01-01 00:31:46   \n",
       "2016-01-01 00:38:37            51000          119829 2016-01-01 00:38:37   \n",
       "2016-01-01 01:11:00            51000          116810 2016-01-01 01:11:00   \n",
       "2016-01-01 01:06:17            51000          120345 2016-01-01 01:06:17   \n",
       "\n",
       "                               DATE_FROM           DATE_UNTIL  \\\n",
       "DATE_BOOKING                                                    \n",
       "2016-01-01 00:44:49  2016-01-01 00:44:49  2016-01-01 01:13:37   \n",
       "2016-01-01 00:31:46  2016-01-01 00:31:46  2016-01-01 00:58:49   \n",
       "2016-01-01 00:38:37  2016-01-01 00:38:37  2016-01-01 00:49:50   \n",
       "2016-01-01 01:11:00  2016-01-01 01:11:00  2016-01-01 02:26:23   \n",
       "2016-01-01 01:06:17  2016-01-01 01:06:17  2016-01-01 01:15:16   \n",
       "\n",
       "                                               START_RENTAL_ZONE  \\\n",
       "DATE_BOOKING                                                       \n",
       "2016-01-01 00:44:49                       Überseering/Mexikoring   \n",
       "2016-01-01 00:31:46                 Stadthausbrücke / Neuer Wall   \n",
       "2016-01-01 00:38:37                   Jungfernstieg / Ballindamm   \n",
       "2016-01-01 01:11:00               Hudtwalckerstraße / Bebelallee   \n",
       "2016-01-01 01:06:17  Bahnhof Dammtor Nord // Theodor-Heuss-Platz   \n",
       "\n",
       "                     START_RENTAL_ZONE_HAL_ID  \\\n",
       "DATE_BOOKING                                    \n",
       "2016-01-01 00:44:49                  213687.0   \n",
       "2016-01-01 00:31:46                  138379.0   \n",
       "2016-01-01 00:38:37                  131879.0   \n",
       "2016-01-01 01:11:00                  138378.0   \n",
       "2016-01-01 01:06:17                  131883.0   \n",
       "\n",
       "                                      END_RENTAL_ZONE  END_RENTAL_ZONE_HAL_ID  \\\n",
       "DATE_BOOKING                                                                    \n",
       "2016-01-01 00:44:49             Bebelallee/Meenkwiese                213855.0   \n",
       "2016-01-01 00:31:46       Goldbekplatz / Semperstraße                140796.0   \n",
       "2016-01-01 00:38:37  Hauptbahnhof Ost / Hachmannplatz                131873.0   \n",
       "2016-01-01 01:11:00   Kellinghusenstraße / Loogeplatz                140795.0   \n",
       "2016-01-01 01:06:17          Feldstraße / Marktstraße                244093.0   \n",
       "\n",
       "                    RENTAL_ZONE_HAL_SRC CITY_RENTAL_ZONE  \\\n",
       "DATE_BOOKING                                               \n",
       "2016-01-01 00:44:49            Standort          Hamburg   \n",
       "2016-01-01 00:31:46            Standort          Hamburg   \n",
       "2016-01-01 00:38:37            Standort          Hamburg   \n",
       "2016-01-01 01:11:00            Standort          Hamburg   \n",
       "2016-01-01 01:06:17            Standort          Hamburg   \n",
       "\n",
       "                    TECHNICAL_INCOME_CHANNEL  \n",
       "DATE_BOOKING                                  \n",
       "2016-01-01 00:44:49              Android SRH  \n",
       "2016-01-01 00:31:46               iPhone SRH  \n",
       "2016-01-01 00:38:37               iPhone CAB  \n",
       "2016-01-01 01:11:00  Terminal HH_72 (-2369-)  \n",
       "2016-01-01 01:06:17              Android SRH  "
      ]
     },
     "execution_count": 19,
     "metadata": {},
     "output_type": "execute_result"
    }
   ],
   "source": [
    "df_2016.index = df_2016['DATE_BOOKING']\n",
    "df_2016.head()"
   ]
  },
  {
   "cell_type": "code",
   "execution_count": 20,
   "metadata": {
    "collapsed": true
   },
   "outputs": [],
   "source": [
    "df_month = df_2016.groupby(pd.TimeGrouper(freq='M'))"
   ]
  },
  {
   "cell_type": "code",
   "execution_count": 21,
   "metadata": {},
   "outputs": [],
   "source": [
    "tem = df_month['DATE_BOOKING'].count()"
   ]
  },
  {
   "cell_type": "code",
   "execution_count": 22,
   "metadata": {},
   "outputs": [],
   "source": [
    "month_name=[]\n",
    "month_wise_booking=[]\n",
    "for p,l in tem.items():\n",
    "    month_name.append(calendar.month_abbr[p.month])\n",
    "    month_wise_booking.append(l)"
   ]
  },
  {
   "cell_type": "code",
   "execution_count": 23,
   "metadata": {},
   "outputs": [
    {
     "name": "stdout",
     "output_type": "stream",
     "text": [
      "['Jan', 'Feb', 'Mar', 'Apr', 'May', 'Jun', 'Jul', 'Aug', 'Sep', 'Oct', 'Nov', 'Dec']\n",
      "[229704, 262906, 310640, 495376, 649252, 671084, 691377, 670195, 665214, 451581, 340488, 264758]\n"
     ]
    }
   ],
   "source": [
    "print(month_name)\n",
    "print(month_wise_booking)"
   ]
  },
  {
   "cell_type": "code",
   "execution_count": 24,
   "metadata": {},
   "outputs": [
    {
     "data": {
      "image/png": "[encoded data removed]",
      "text/plain": [
       "<matplotlib.figure.Figure at 0x7f018db74e48>"
      ]
     },
     "metadata": {},
     "output_type": "display_data"
    }
   ],
   "source": [
    "x_plot = np.arange(len(month_name))\n",
    "plt.figure(figsize=(8,6))\n",
    "plt.title('Month Wise Booking', fontsize=15, fontweight='bold')\n",
    "p = plt.bar(x_plot+1, month_wise_booking)\n",
    "plt.xticks(x_plot+1, month_name, rotation = 'vertical')\n",
    "plt.show()"
   ]
  },
  {
   "cell_type": "code",
   "execution_count": 25,
   "metadata": {},
   "outputs": [
    {
     "data": {
      "text/plain": [
       "CATEGORY_HAL_ID             5702575\n",
       "VEHICLE_HAL_ID              5702575\n",
       "DATE_BOOKING                5702575\n",
       "DATE_FROM                   5702575\n",
       "DATE_UNTIL                  5702575\n",
       "START_RENTAL_ZONE           4540382\n",
       "START_RENTAL_ZONE_HAL_ID    5422863\n",
       "END_RENTAL_ZONE             4529526\n",
       "END_RENTAL_ZONE_HAL_ID      5420375\n",
       "RENTAL_ZONE_HAL_SRC         5598819\n",
       "CITY_RENTAL_ZONE            5702575\n",
       "TECHNICAL_INCOME_CHANNEL    5639061\n",
       "dtype: int64"
      ]
     },
     "execution_count": 25,
     "metadata": {},
     "output_type": "execute_result"
    }
   ],
   "source": [
    "df_2016.count()"
   ]
  },
  {
   "cell_type": "code",
   "execution_count": 26,
   "metadata": {},
   "outputs": [],
   "source": [
    "df = df_2016.dropna(subset = ['TECHNICAL_INCOME_CHANNEL'],how='any', axis=0)"
   ]
  },
  {
   "cell_type": "code",
   "execution_count": 27,
   "metadata": {},
   "outputs": [
    {
     "data": {
      "text/plain": [
       "CATEGORY_HAL_ID             5639061\n",
       "VEHICLE_HAL_ID              5639061\n",
       "DATE_BOOKING                5639061\n",
       "DATE_FROM                   5639061\n",
       "DATE_UNTIL                  5639061\n",
       "START_RENTAL_ZONE           4490674\n",
       "START_RENTAL_ZONE_HAL_ID    5362018\n",
       "END_RENTAL_ZONE             4480063\n",
       "END_RENTAL_ZONE_HAL_ID      5359256\n",
       "RENTAL_ZONE_HAL_SRC         5536141\n",
       "CITY_RENTAL_ZONE            5639061\n",
       "TECHNICAL_INCOME_CHANNEL    5639061\n",
       "dtype: int64"
      ]
     },
     "execution_count": 27,
     "metadata": {},
     "output_type": "execute_result"
    }
   ],
   "source": [
    "df.count()"
   ]
  },
  {
   "cell_type": "code",
   "execution_count": 28,
   "metadata": {},
   "outputs": [],
   "source": [
    "channel = df['TECHNICAL_INCOME_CHANNEL']"
   ]
  },
  {
   "cell_type": "code",
   "execution_count": 29,
   "metadata": {},
   "outputs": [],
   "source": [
    "channel_group = {'android':[], 'iphone': [], 'windows': [], 'other': []}\n",
    "for j in channel:\n",
    "    if ('Android' in j):\n",
    "        channel_group['android'].append(j)\n",
    "    elif ('iPhone' in j):\n",
    "        channel_group['iphone'].append(j)\n",
    "    elif ('Windows' in j):\n",
    "        channel_group['windows'].append(j)\n",
    "    else:\n",
    "        channel_group['other'].append(j)"
   ]
  },
  {
   "cell_type": "code",
   "execution_count": 30,
   "metadata": {},
   "outputs": [
    {
     "name": "stdout",
     "output_type": "stream",
     "text": [
      "['android', 'iphone', 'windows', 'other']\n",
      "[1577471, 2059359, 68735, 1933496]\n"
     ]
    }
   ],
   "source": [
    "groups, group_count = [],[]\n",
    "for i in channel_group:\n",
    "    groups.append(i)\n",
    "    group_count.append(len(channel_group[i]))\n",
    "print(groups)\n",
    "print(group_count)"
   ]
  },
  {
   "cell_type": "code",
   "execution_count": 31,
   "metadata": {},
   "outputs": [
    {
     "data": {
      "image/png": "[encoded data removed]",
      "text/plain": [
       "<matplotlib.figure.Figure at 0x7f018dae7e10>"
      ]
     },
     "metadata": {},
     "output_type": "display_data"
    }
   ],
   "source": [
    "x_plot = np.arange(len(groups))\n",
    "plt.figure(figsize=(8,6))\n",
    "plt.title('Channels', fontsize=15, fontweight='bold')\n",
    "p = plt.bar(x_plot+1, group_count)\n",
    "plt.xticks(x_plot+1, groups, fontsize=15)\n",
    "plt.show()"
   ]
  },
  {
   "cell_type": "code",
   "execution_count": null,
   "metadata": {
    "collapsed": true
   },
   "outputs": [],
   "source": []
  }
 ],
 "metadata": {
  "kernelspec": {
   "display_name": "Python 3",
   "language": "python",
   "name": "python3"
  },
  "language_info": {
   "codemirror_mode": {
    "name": "ipython",
    "version": 3
   },
   "file_extension": ".py",
   "mimetype": "text/x-python",
   "name": "python",
   "nbconvert_exporter": "python",
   "pygments_lexer": "ipython3",
   "version": "3.6.3"
  }
 },
 "nbformat": 4,
 "nbformat_minor": 2
}
