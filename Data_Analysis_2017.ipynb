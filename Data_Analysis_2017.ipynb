{
 "cells": [
  {
   "cell_type": "code",
   "execution_count": 1,
   "metadata": {
    "collapsed": true
   },
   "outputs": [],
   "source": [
    "import pandas as pd\n",
    "import numpy as np\n",
    "import matplotlib.pyplot as plt\n",
    "import calendar"
   ]
  },
  {
   "cell_type": "code",
   "execution_count": 2,
   "metadata": {
    "collapsed": true
   },
   "outputs": [],
   "source": [
    "df_2017 = pd.read_csv('2017_Call_a_bike.csv')"
   ]
  },
  {
   "cell_type": "code",
   "execution_count": 3,
   "metadata": {},
   "outputs": [
    {
     "data": {
      "text/plain": [
       "date                         1615553\n",
       "BOOKING_HAL_ID               1615553\n",
       "CATEGORY_HAL_ID              1615553\n",
       "VEHICLE_HAL_ID               1615553\n",
       "CUSTOMER_HAL_ID              1615553\n",
       "DATE_BOOKING                 1615553\n",
       "DATE_FROM                    1615553\n",
       "DATE_UNTIL                   1615553\n",
       "COMPUTE_EXTRA_BOOKING_FEE    1615553\n",
       "TRAVERSE_USE                 1615553\n",
       "DISTANCE                     1615048\n",
       "START_RENTAL_ZONE            1357499\n",
       "START_RENTAL_ZONE_HAL_ID     1505908\n",
       "END_RENTAL_ZONE              1353296\n",
       "END_RENTAL_ZONE_HAL_ID       1504272\n",
       "RENTAL_ZONE_HAL_SRC          1568548\n",
       "CITY_RENTAL_ZONE             1615553\n",
       "TECHNICAL_INCOME_CHANNEL     1596837\n",
       "dtype: int64"
      ]
     },
     "execution_count": 3,
     "metadata": {},
     "output_type": "execute_result"
    }
   ],
   "source": [
    "df_2017.count()"
   ]
  },
  {
   "cell_type": "code",
   "execution_count": 4,
   "metadata": {
    "scrolled": true
   },
   "outputs": [
    {
     "data": {
      "text/html": [
       "<div>\n",
       "<style>\n",
       "    .dataframe thead tr:only-child th {\n",
       "        text-align: right;\n",
       "    }\n",
       "\n",
       "    .dataframe thead th {\n",
       "        text-align: left;\n",
       "    }\n",
       "\n",
       "    .dataframe tbody tr th {\n",
       "        vertical-align: top;\n",
       "    }\n",
       "</style>\n",
       "<table border=\"1\" class=\"dataframe\">\n",
       "  <thead>\n",
       "    <tr style=\"text-align: right;\">\n",
       "      <th></th>\n",
       "      <th>date</th>\n",
       "      <th>BOOKING_HAL_ID</th>\n",
       "      <th>CATEGORY_HAL_ID</th>\n",
       "      <th>VEHICLE_HAL_ID</th>\n",
       "      <th>CUSTOMER_HAL_ID</th>\n",
       "      <th>DATE_BOOKING</th>\n",
       "      <th>DATE_FROM</th>\n",
       "      <th>DATE_UNTIL</th>\n",
       "      <th>COMPUTE_EXTRA_BOOKING_FEE</th>\n",
       "      <th>TRAVERSE_USE</th>\n",
       "      <th>DISTANCE</th>\n",
       "      <th>START_RENTAL_ZONE</th>\n",
       "      <th>START_RENTAL_ZONE_HAL_ID</th>\n",
       "      <th>END_RENTAL_ZONE</th>\n",
       "      <th>END_RENTAL_ZONE_HAL_ID</th>\n",
       "      <th>RENTAL_ZONE_HAL_SRC</th>\n",
       "      <th>CITY_RENTAL_ZONE</th>\n",
       "      <th>TECHNICAL_INCOME_CHANNEL</th>\n",
       "    </tr>\n",
       "  </thead>\n",
       "  <tbody>\n",
       "    <tr>\n",
       "      <th>0</th>\n",
       "      <td>2017-01-01 00:08:02</td>\n",
       "      <td>43562062</td>\n",
       "      <td>51000</td>\n",
       "      <td>118959</td>\n",
       "      <td>3F9F83CC6BB832E78FBF5AFCDA3F06711A47EDD5</td>\n",
       "      <td>2017-01-01 00:08:02</td>\n",
       "      <td>2017-01-01 00:08:02</td>\n",
       "      <td>2017-01-01 00:12:13</td>\n",
       "      <td>Nein</td>\n",
       "      <td>Nein</td>\n",
       "      <td>0.0</td>\n",
       "      <td>Hauptbahnhof Ost / Hachmannplatz</td>\n",
       "      <td>131873.0</td>\n",
       "      <td>Amsinckstraße/ Nordkanalbrücke</td>\n",
       "      <td>218174.0</td>\n",
       "      <td>Standort</td>\n",
       "      <td>Hamburg</td>\n",
       "      <td>Terminal HH_34 (-2541-)</td>\n",
       "    </tr>\n",
       "    <tr>\n",
       "      <th>1</th>\n",
       "      <td>2017-01-01 00:22:58</td>\n",
       "      <td>43562098</td>\n",
       "      <td>51000</td>\n",
       "      <td>119276</td>\n",
       "      <td>3390E88D3CA6B366BB99B7CD07011D45DDFD4BCC</td>\n",
       "      <td>2017-01-01 00:22:58</td>\n",
       "      <td>2017-01-01 00:22:58</td>\n",
       "      <td>2017-01-01 00:42:59</td>\n",
       "      <td>Nein</td>\n",
       "      <td>Nein</td>\n",
       "      <td>0.0</td>\n",
       "      <td>Millerntorplatz/St.Pauli</td>\n",
       "      <td>131905.0</td>\n",
       "      <td>Kümmellstraße / Robert-Koch-Straße</td>\n",
       "      <td>140794.0</td>\n",
       "      <td>Standort</td>\n",
       "      <td>Hamburg</td>\n",
       "      <td>iPhone SRH</td>\n",
       "    </tr>\n",
       "    <tr>\n",
       "      <th>2</th>\n",
       "      <td>2017-01-01 01:14:31</td>\n",
       "      <td>43562311</td>\n",
       "      <td>51000</td>\n",
       "      <td>110849</td>\n",
       "      <td>9D055BA1B76A83B7DDE23F1F047417B898DE8EEB</td>\n",
       "      <td>2017-01-01 01:14:31</td>\n",
       "      <td>2017-01-01 01:14:31</td>\n",
       "      <td>2017-01-01 01:19:21</td>\n",
       "      <td>Nein</td>\n",
       "      <td>Nein</td>\n",
       "      <td>0.0</td>\n",
       "      <td>Winterhuder Weg/ Zimmerstraße</td>\n",
       "      <td>208292.0</td>\n",
       "      <td>Mundsburg / Schürbeker Straße</td>\n",
       "      <td>140799.0</td>\n",
       "      <td>Standort</td>\n",
       "      <td>Hamburg</td>\n",
       "      <td>iPhone SRH</td>\n",
       "    </tr>\n",
       "    <tr>\n",
       "      <th>3</th>\n",
       "      <td>2017-01-01 00:58:23</td>\n",
       "      <td>43562276</td>\n",
       "      <td>51000</td>\n",
       "      <td>143816</td>\n",
       "      <td>E5EA473376AC6D935858189469A53C01C736C870</td>\n",
       "      <td>2017-01-01 00:58:23</td>\n",
       "      <td>2017-01-01 00:58:23</td>\n",
       "      <td>2017-01-01 01:13:05</td>\n",
       "      <td>Nein</td>\n",
       "      <td>Nein</td>\n",
       "      <td>0.0</td>\n",
       "      <td>Sternschanze / Eingang Dänenweg</td>\n",
       "      <td>139501.0</td>\n",
       "      <td>Bahnhof Altona Ost/Max-Brauer-Allee</td>\n",
       "      <td>131646.0</td>\n",
       "      <td>Standort</td>\n",
       "      <td>Hamburg</td>\n",
       "      <td>Terminal HH_6 (-2133-)</td>\n",
       "    </tr>\n",
       "    <tr>\n",
       "      <th>4</th>\n",
       "      <td>2017-01-01 01:31:30</td>\n",
       "      <td>43562334</td>\n",
       "      <td>50000</td>\n",
       "      <td>164404</td>\n",
       "      <td>90DB1A8F6F3EF270F4671D1770D93211D34E8EA6</td>\n",
       "      <td>2017-01-01 01:31:30</td>\n",
       "      <td>2017-01-01 01:31:30</td>\n",
       "      <td>2017-01-01 01:57:58</td>\n",
       "      <td>Nein</td>\n",
       "      <td>Nein</td>\n",
       "      <td>0.0</td>\n",
       "      <td>Eschersheimer Landstraße / Am Lindenbaum</td>\n",
       "      <td>227482.0</td>\n",
       "      <td>Marbachweg / Eckenheimer Landstraße</td>\n",
       "      <td>231798.0</td>\n",
       "      <td>Standort</td>\n",
       "      <td>Frankfurt am Main</td>\n",
       "      <td>IVR</td>\n",
       "    </tr>\n",
       "  </tbody>\n",
       "</table>\n",
       "</div>"
      ],
      "text/plain": [
       "                  date  BOOKING_HAL_ID  CATEGORY_HAL_ID  VEHICLE_HAL_ID  \\\n",
       "0  2017-01-01 00:08:02        43562062            51000          118959   \n",
       "1  2017-01-01 00:22:58        43562098            51000          119276   \n",
       "2  2017-01-01 01:14:31        43562311            51000          110849   \n",
       "3  2017-01-01 00:58:23        43562276            51000          143816   \n",
       "4  2017-01-01 01:31:30        43562334            50000          164404   \n",
       "\n",
       "                            CUSTOMER_HAL_ID         DATE_BOOKING  \\\n",
       "0  3F9F83CC6BB832E78FBF5AFCDA3F06711A47EDD5  2017-01-01 00:08:02   \n",
       "1  3390E88D3CA6B366BB99B7CD07011D45DDFD4BCC  2017-01-01 00:22:58   \n",
       "2  9D055BA1B76A83B7DDE23F1F047417B898DE8EEB  2017-01-01 01:14:31   \n",
       "3  E5EA473376AC6D935858189469A53C01C736C870  2017-01-01 00:58:23   \n",
       "4  90DB1A8F6F3EF270F4671D1770D93211D34E8EA6  2017-01-01 01:31:30   \n",
       "\n",
       "             DATE_FROM           DATE_UNTIL COMPUTE_EXTRA_BOOKING_FEE  \\\n",
       "0  2017-01-01 00:08:02  2017-01-01 00:12:13                      Nein   \n",
       "1  2017-01-01 00:22:58  2017-01-01 00:42:59                      Nein   \n",
       "2  2017-01-01 01:14:31  2017-01-01 01:19:21                      Nein   \n",
       "3  2017-01-01 00:58:23  2017-01-01 01:13:05                      Nein   \n",
       "4  2017-01-01 01:31:30  2017-01-01 01:57:58                      Nein   \n",
       "\n",
       "  TRAVERSE_USE  DISTANCE                         START_RENTAL_ZONE  \\\n",
       "0         Nein       0.0          Hauptbahnhof Ost / Hachmannplatz   \n",
       "1         Nein       0.0                  Millerntorplatz/St.Pauli   \n",
       "2         Nein       0.0             Winterhuder Weg/ Zimmerstraße   \n",
       "3         Nein       0.0           Sternschanze / Eingang Dänenweg   \n",
       "4         Nein       0.0  Eschersheimer Landstraße / Am Lindenbaum   \n",
       "\n",
       "   START_RENTAL_ZONE_HAL_ID                      END_RENTAL_ZONE  \\\n",
       "0                  131873.0       Amsinckstraße/ Nordkanalbrücke   \n",
       "1                  131905.0   Kümmellstraße / Robert-Koch-Straße   \n",
       "2                  208292.0        Mundsburg / Schürbeker Straße   \n",
       "3                  139501.0  Bahnhof Altona Ost/Max-Brauer-Allee   \n",
       "4                  227482.0  Marbachweg / Eckenheimer Landstraße   \n",
       "\n",
       "   END_RENTAL_ZONE_HAL_ID RENTAL_ZONE_HAL_SRC   CITY_RENTAL_ZONE  \\\n",
       "0                218174.0            Standort            Hamburg   \n",
       "1                140794.0            Standort            Hamburg   \n",
       "2                140799.0            Standort            Hamburg   \n",
       "3                131646.0            Standort            Hamburg   \n",
       "4                231798.0            Standort  Frankfurt am Main   \n",
       "\n",
       "  TECHNICAL_INCOME_CHANNEL  \n",
       "0  Terminal HH_34 (-2541-)  \n",
       "1               iPhone SRH  \n",
       "2               iPhone SRH  \n",
       "3   Terminal HH_6 (-2133-)  \n",
       "4                      IVR  "
      ]
     },
     "execution_count": 4,
     "metadata": {},
     "output_type": "execute_result"
    }
   ],
   "source": [
    "df_2017.head()"
   ]
  },
  {
   "cell_type": "code",
   "execution_count": 5,
   "metadata": {
    "collapsed": true
   },
   "outputs": [],
   "source": [
    "df_2017.drop(['COMPUTE_EXTRA_BOOKING_FEE', 'TRAVERSE_USE', 'DISTANCE', 'BOOKING_HAL_ID', 'CUSTOMER_HAL_ID'], axis=1, inplace=True)"
   ]
  },
  {
   "cell_type": "code",
   "execution_count": 6,
   "metadata": {
    "collapsed": true
   },
   "outputs": [],
   "source": [
    "CITY = df_2017.CITY_RENTAL_ZONE.unique()"
   ]
  },
  {
   "cell_type": "code",
   "execution_count": 7,
   "metadata": {
    "collapsed": true
   },
   "outputs": [],
   "source": [
    "category = df_2017.CATEGORY_HAL_ID.unique()"
   ]
  },
  {
   "cell_type": "code",
   "execution_count": 8,
   "metadata": {},
   "outputs": [
    {
     "data": {
      "text/html": [
       "<div>\n",
       "<style>\n",
       "    .dataframe thead tr:only-child th {\n",
       "        text-align: right;\n",
       "    }\n",
       "\n",
       "    .dataframe thead th {\n",
       "        text-align: left;\n",
       "    }\n",
       "\n",
       "    .dataframe tbody tr th {\n",
       "        vertical-align: top;\n",
       "    }\n",
       "</style>\n",
       "<table border=\"1\" class=\"dataframe\">\n",
       "  <thead>\n",
       "    <tr style=\"text-align: right;\">\n",
       "      <th></th>\n",
       "      <th>date</th>\n",
       "      <th>CATEGORY_HAL_ID</th>\n",
       "      <th>VEHICLE_HAL_ID</th>\n",
       "      <th>DATE_BOOKING</th>\n",
       "      <th>DATE_FROM</th>\n",
       "      <th>DATE_UNTIL</th>\n",
       "      <th>START_RENTAL_ZONE</th>\n",
       "      <th>START_RENTAL_ZONE_HAL_ID</th>\n",
       "      <th>END_RENTAL_ZONE</th>\n",
       "      <th>END_RENTAL_ZONE_HAL_ID</th>\n",
       "      <th>RENTAL_ZONE_HAL_SRC</th>\n",
       "      <th>CITY_RENTAL_ZONE</th>\n",
       "      <th>TECHNICAL_INCOME_CHANNEL</th>\n",
       "    </tr>\n",
       "  </thead>\n",
       "  <tbody>\n",
       "    <tr>\n",
       "      <th>0</th>\n",
       "      <td>2017-01-01 00:08:02</td>\n",
       "      <td>51000</td>\n",
       "      <td>118959</td>\n",
       "      <td>2017-01-01 00:08:02</td>\n",
       "      <td>2017-01-01 00:08:02</td>\n",
       "      <td>2017-01-01 00:12:13</td>\n",
       "      <td>Hauptbahnhof Ost / Hachmannplatz</td>\n",
       "      <td>131873.0</td>\n",
       "      <td>Amsinckstraße/ Nordkanalbrücke</td>\n",
       "      <td>218174.0</td>\n",
       "      <td>Standort</td>\n",
       "      <td>Hamburg</td>\n",
       "      <td>Terminal HH_34 (-2541-)</td>\n",
       "    </tr>\n",
       "    <tr>\n",
       "      <th>1</th>\n",
       "      <td>2017-01-01 00:22:58</td>\n",
       "      <td>51000</td>\n",
       "      <td>119276</td>\n",
       "      <td>2017-01-01 00:22:58</td>\n",
       "      <td>2017-01-01 00:22:58</td>\n",
       "      <td>2017-01-01 00:42:59</td>\n",
       "      <td>Millerntorplatz/St.Pauli</td>\n",
       "      <td>131905.0</td>\n",
       "      <td>Kümmellstraße / Robert-Koch-Straße</td>\n",
       "      <td>140794.0</td>\n",
       "      <td>Standort</td>\n",
       "      <td>Hamburg</td>\n",
       "      <td>iPhone SRH</td>\n",
       "    </tr>\n",
       "    <tr>\n",
       "      <th>2</th>\n",
       "      <td>2017-01-01 01:14:31</td>\n",
       "      <td>51000</td>\n",
       "      <td>110849</td>\n",
       "      <td>2017-01-01 01:14:31</td>\n",
       "      <td>2017-01-01 01:14:31</td>\n",
       "      <td>2017-01-01 01:19:21</td>\n",
       "      <td>Winterhuder Weg/ Zimmerstraße</td>\n",
       "      <td>208292.0</td>\n",
       "      <td>Mundsburg / Schürbeker Straße</td>\n",
       "      <td>140799.0</td>\n",
       "      <td>Standort</td>\n",
       "      <td>Hamburg</td>\n",
       "      <td>iPhone SRH</td>\n",
       "    </tr>\n",
       "    <tr>\n",
       "      <th>3</th>\n",
       "      <td>2017-01-01 00:58:23</td>\n",
       "      <td>51000</td>\n",
       "      <td>143816</td>\n",
       "      <td>2017-01-01 00:58:23</td>\n",
       "      <td>2017-01-01 00:58:23</td>\n",
       "      <td>2017-01-01 01:13:05</td>\n",
       "      <td>Sternschanze / Eingang Dänenweg</td>\n",
       "      <td>139501.0</td>\n",
       "      <td>Bahnhof Altona Ost/Max-Brauer-Allee</td>\n",
       "      <td>131646.0</td>\n",
       "      <td>Standort</td>\n",
       "      <td>Hamburg</td>\n",
       "      <td>Terminal HH_6 (-2133-)</td>\n",
       "    </tr>\n",
       "    <tr>\n",
       "      <th>4</th>\n",
       "      <td>2017-01-01 01:31:30</td>\n",
       "      <td>50000</td>\n",
       "      <td>164404</td>\n",
       "      <td>2017-01-01 01:31:30</td>\n",
       "      <td>2017-01-01 01:31:30</td>\n",
       "      <td>2017-01-01 01:57:58</td>\n",
       "      <td>Eschersheimer Landstraße / Am Lindenbaum</td>\n",
       "      <td>227482.0</td>\n",
       "      <td>Marbachweg / Eckenheimer Landstraße</td>\n",
       "      <td>231798.0</td>\n",
       "      <td>Standort</td>\n",
       "      <td>Frankfurt am Main</td>\n",
       "      <td>IVR</td>\n",
       "    </tr>\n",
       "  </tbody>\n",
       "</table>\n",
       "</div>"
      ],
      "text/plain": [
       "                  date  CATEGORY_HAL_ID  VEHICLE_HAL_ID         DATE_BOOKING  \\\n",
       "0  2017-01-01 00:08:02            51000          118959  2017-01-01 00:08:02   \n",
       "1  2017-01-01 00:22:58            51000          119276  2017-01-01 00:22:58   \n",
       "2  2017-01-01 01:14:31            51000          110849  2017-01-01 01:14:31   \n",
       "3  2017-01-01 00:58:23            51000          143816  2017-01-01 00:58:23   \n",
       "4  2017-01-01 01:31:30            50000          164404  2017-01-01 01:31:30   \n",
       "\n",
       "             DATE_FROM           DATE_UNTIL  \\\n",
       "0  2017-01-01 00:08:02  2017-01-01 00:12:13   \n",
       "1  2017-01-01 00:22:58  2017-01-01 00:42:59   \n",
       "2  2017-01-01 01:14:31  2017-01-01 01:19:21   \n",
       "3  2017-01-01 00:58:23  2017-01-01 01:13:05   \n",
       "4  2017-01-01 01:31:30  2017-01-01 01:57:58   \n",
       "\n",
       "                          START_RENTAL_ZONE  START_RENTAL_ZONE_HAL_ID  \\\n",
       "0          Hauptbahnhof Ost / Hachmannplatz                  131873.0   \n",
       "1                  Millerntorplatz/St.Pauli                  131905.0   \n",
       "2             Winterhuder Weg/ Zimmerstraße                  208292.0   \n",
       "3           Sternschanze / Eingang Dänenweg                  139501.0   \n",
       "4  Eschersheimer Landstraße / Am Lindenbaum                  227482.0   \n",
       "\n",
       "                       END_RENTAL_ZONE  END_RENTAL_ZONE_HAL_ID  \\\n",
       "0       Amsinckstraße/ Nordkanalbrücke                218174.0   \n",
       "1   Kümmellstraße / Robert-Koch-Straße                140794.0   \n",
       "2        Mundsburg / Schürbeker Straße                140799.0   \n",
       "3  Bahnhof Altona Ost/Max-Brauer-Allee                131646.0   \n",
       "4  Marbachweg / Eckenheimer Landstraße                231798.0   \n",
       "\n",
       "  RENTAL_ZONE_HAL_SRC   CITY_RENTAL_ZONE TECHNICAL_INCOME_CHANNEL  \n",
       "0            Standort            Hamburg  Terminal HH_34 (-2541-)  \n",
       "1            Standort            Hamburg               iPhone SRH  \n",
       "2            Standort            Hamburg               iPhone SRH  \n",
       "3            Standort            Hamburg   Terminal HH_6 (-2133-)  \n",
       "4            Standort  Frankfurt am Main                      IVR  "
      ]
     },
     "execution_count": 8,
     "metadata": {},
     "output_type": "execute_result"
    }
   ],
   "source": [
    "df_2017.head()"
   ]
  },
  {
   "cell_type": "code",
   "execution_count": 9,
   "metadata": {},
   "outputs": [
    {
     "name": "stdout",
     "output_type": "stream",
     "text": [
      "47\n",
      "5\n"
     ]
    }
   ],
   "source": [
    "print(len(CITY))\n",
    "print(len(category))"
   ]
  },
  {
   "cell_type": "code",
   "execution_count": 10,
   "metadata": {
    "collapsed": true
   },
   "outputs": [],
   "source": [
    "city_dict = {}\n",
    "cities, city_count = [],[]\n",
    "for city in CITY:\n",
    "    city_dict[city] = len(df_2017[df_2017['CITY_RENTAL_ZONE']==city])\n",
    "    cities.append(city)\n",
    "    city_count.append(city_dict[city])"
   ]
  },
  {
   "cell_type": "code",
   "execution_count": 11,
   "metadata": {},
   "outputs": [
    {
     "name": "stdout",
     "output_type": "stream",
     "text": [
      "{'Hamburg': 930667, 'Frankfurt am Main': 276917, 'Kassel': 42698, 'München': 83117, 'Marburg': 54544, 'Stuttgart': 44788, 'Köln': 61583, 'Darmstadt': 104197, 'Wiesbaden': 4965, 'Rüsselsheim': 8308, 'Flugh. Frankfurt': 933, 'Baden-Baden': 221, 'Heidelberg': 79, 'Kiel': 400, 'Halle': 424, 'Hannover': 114, 'Göttingen': 155, 'Hanau': 57, 'Bremen': 95, 'Lübeck': 58, 'Bonn': 84, 'Mannheim': 109, 'Bielefeld': 7, 'Düsseldorf': 150, 'Freiburg': 124, 'Fulda': 19, 'Ingolstadt': 65, 'Mainz': 98, 'Troisdorf': 21, 'Erlangen': 18, 'Saarbrücken': 18, 'Karlsruhe': 105, 'Berlin': 176, 'Magdeburg': 35, 'Braunschweig': 24, 'Rostock': 25, 'Würzburg': 38, 'Oldenburg (Oldb)': 10, 'Gütersloh': 6, 'Bamberg': 25, 'Weimar': 28, 'Warnemünde': 17, 'Kaiserslautern': 7, 'Aschaffenburg': 11, 'Oberhausen': 8, 'Hennef': 3, 'Rendsburg': 2}\n"
     ]
    }
   ],
   "source": [
    "print(city_dict)"
   ]
  },
  {
   "cell_type": "code",
   "execution_count": 12,
   "metadata": {},
   "outputs": [
    {
     "data": {
      "image/png": "[encoded data removed]",
      "text/plain": [
       "<matplotlib.figure.Figure at 0x7fc6119b6f98>"
      ]
     },
     "metadata": {},
     "output_type": "display_data"
    }
   ],
   "source": [
    "x_plot = np.arange(len(cities))\n",
    "plt.figure(figsize=(16,6))\n",
    "plt.title('Cities', fontsize=15, fontweight='bold')\n",
    "p = plt.bar(x_plot+1, city_count)\n",
    "plt.xticks(x_plot+1, cities, rotation = 'vertical')\n",
    "plt.show()"
   ]
  },
  {
   "cell_type": "code",
   "execution_count": 13,
   "metadata": {
    "collapsed": true
   },
   "outputs": [],
   "source": [
    "category_dict = {}\n",
    "categories, category_count = [],[]\n",
    "for c in category:\n",
    "    category_dict[c] = len(df_2017[df_2017['CATEGORY_HAL_ID']==c])\n",
    "    categories.append(c)\n",
    "    category_count.append(category_dict[c])"
   ]
  },
  {
   "cell_type": "code",
   "execution_count": 14,
   "metadata": {},
   "outputs": [
    {
     "name": "stdout",
     "output_type": "stream",
     "text": [
      "{51000: 930667, 50000: 636731, 53000: 42698, 50001: 5448, 50400: 9}\n"
     ]
    }
   ],
   "source": [
    "print(category_dict)"
   ]
  },
  {
   "cell_type": "code",
   "execution_count": 15,
   "metadata": {},
   "outputs": [
    {
     "data": {
      "image/png": "[encoded data removed]",
      "text/plain": [
       "<matplotlib.figure.Figure at 0x7fc6318bc2b0>"
      ]
     },
     "metadata": {},
     "output_type": "display_data"
    }
   ],
   "source": [
    "x_plot = np.arange(len(categories))\n",
    "plt.figure(figsize=(8,6))\n",
    "plt.title('Category', fontsize=15, fontweight='bold')\n",
    "p = plt.bar(x_plot+1, category_count)\n",
    "plt.xticks(x_plot+1, categories, rotation = 'vertical')\n",
    "plt.show()"
   ]
  },
  {
   "cell_type": "code",
   "execution_count": 16,
   "metadata": {},
   "outputs": [
    {
     "data": {
      "image/png": "[encoded data removed]",
      "text/plain": [
       "<matplotlib.figure.Figure at 0x7fc631930748>"
      ]
     },
     "metadata": {},
     "output_type": "display_data"
    }
   ],
   "source": [
    "colors = [\"#0AB9FB\", \"#5CD1FE\",\"#8BDAF9\", \"#ACE6FD\",\"#0098D4\"]\n",
    "plt.figure(figsize=(5,5))\n",
    "plt.title('Category', fontsize=15, fontweight='bold')\n",
    "plt.pie(category_count, labels=categories)\n",
    "plt.legend(categories, fontsize = 'large', loc = \"best\")\n",
    "plt.tight_layout()\n",
    "plt.show()"
   ]
  },
  {
   "cell_type": "code",
   "execution_count": 17,
   "metadata": {},
   "outputs": [
    {
     "data": {
      "text/html": [
       "<div>\n",
       "<style>\n",
       "    .dataframe thead tr:only-child th {\n",
       "        text-align: right;\n",
       "    }\n",
       "\n",
       "    .dataframe thead th {\n",
       "        text-align: left;\n",
       "    }\n",
       "\n",
       "    .dataframe tbody tr th {\n",
       "        vertical-align: top;\n",
       "    }\n",
       "</style>\n",
       "<table border=\"1\" class=\"dataframe\">\n",
       "  <thead>\n",
       "    <tr style=\"text-align: right;\">\n",
       "      <th></th>\n",
       "      <th>CATEGORY_HAL_ID</th>\n",
       "      <th>VEHICLE_HAL_ID</th>\n",
       "      <th>DATE_BOOKING</th>\n",
       "      <th>DATE_FROM</th>\n",
       "      <th>DATE_UNTIL</th>\n",
       "      <th>START_RENTAL_ZONE</th>\n",
       "      <th>START_RENTAL_ZONE_HAL_ID</th>\n",
       "      <th>END_RENTAL_ZONE</th>\n",
       "      <th>END_RENTAL_ZONE_HAL_ID</th>\n",
       "      <th>RENTAL_ZONE_HAL_SRC</th>\n",
       "      <th>CITY_RENTAL_ZONE</th>\n",
       "      <th>TECHNICAL_INCOME_CHANNEL</th>\n",
       "    </tr>\n",
       "  </thead>\n",
       "  <tbody>\n",
       "    <tr>\n",
       "      <th>0</th>\n",
       "      <td>51000</td>\n",
       "      <td>118959</td>\n",
       "      <td>2017-01-01 00:08:02</td>\n",
       "      <td>2017-01-01 00:08:02</td>\n",
       "      <td>2017-01-01 00:12:13</td>\n",
       "      <td>Hauptbahnhof Ost / Hachmannplatz</td>\n",
       "      <td>131873.0</td>\n",
       "      <td>Amsinckstraße/ Nordkanalbrücke</td>\n",
       "      <td>218174.0</td>\n",
       "      <td>Standort</td>\n",
       "      <td>Hamburg</td>\n",
       "      <td>Terminal HH_34 (-2541-)</td>\n",
       "    </tr>\n",
       "    <tr>\n",
       "      <th>1</th>\n",
       "      <td>51000</td>\n",
       "      <td>119276</td>\n",
       "      <td>2017-01-01 00:22:58</td>\n",
       "      <td>2017-01-01 00:22:58</td>\n",
       "      <td>2017-01-01 00:42:59</td>\n",
       "      <td>Millerntorplatz/St.Pauli</td>\n",
       "      <td>131905.0</td>\n",
       "      <td>Kümmellstraße / Robert-Koch-Straße</td>\n",
       "      <td>140794.0</td>\n",
       "      <td>Standort</td>\n",
       "      <td>Hamburg</td>\n",
       "      <td>iPhone SRH</td>\n",
       "    </tr>\n",
       "    <tr>\n",
       "      <th>2</th>\n",
       "      <td>51000</td>\n",
       "      <td>110849</td>\n",
       "      <td>2017-01-01 01:14:31</td>\n",
       "      <td>2017-01-01 01:14:31</td>\n",
       "      <td>2017-01-01 01:19:21</td>\n",
       "      <td>Winterhuder Weg/ Zimmerstraße</td>\n",
       "      <td>208292.0</td>\n",
       "      <td>Mundsburg / Schürbeker Straße</td>\n",
       "      <td>140799.0</td>\n",
       "      <td>Standort</td>\n",
       "      <td>Hamburg</td>\n",
       "      <td>iPhone SRH</td>\n",
       "    </tr>\n",
       "    <tr>\n",
       "      <th>3</th>\n",
       "      <td>51000</td>\n",
       "      <td>143816</td>\n",
       "      <td>2017-01-01 00:58:23</td>\n",
       "      <td>2017-01-01 00:58:23</td>\n",
       "      <td>2017-01-01 01:13:05</td>\n",
       "      <td>Sternschanze / Eingang Dänenweg</td>\n",
       "      <td>139501.0</td>\n",
       "      <td>Bahnhof Altona Ost/Max-Brauer-Allee</td>\n",
       "      <td>131646.0</td>\n",
       "      <td>Standort</td>\n",
       "      <td>Hamburg</td>\n",
       "      <td>Terminal HH_6 (-2133-)</td>\n",
       "    </tr>\n",
       "    <tr>\n",
       "      <th>4</th>\n",
       "      <td>50000</td>\n",
       "      <td>164404</td>\n",
       "      <td>2017-01-01 01:31:30</td>\n",
       "      <td>2017-01-01 01:31:30</td>\n",
       "      <td>2017-01-01 01:57:58</td>\n",
       "      <td>Eschersheimer Landstraße / Am Lindenbaum</td>\n",
       "      <td>227482.0</td>\n",
       "      <td>Marbachweg / Eckenheimer Landstraße</td>\n",
       "      <td>231798.0</td>\n",
       "      <td>Standort</td>\n",
       "      <td>Frankfurt am Main</td>\n",
       "      <td>IVR</td>\n",
       "    </tr>\n",
       "  </tbody>\n",
       "</table>\n",
       "</div>"
      ],
      "text/plain": [
       "   CATEGORY_HAL_ID  VEHICLE_HAL_ID         DATE_BOOKING            DATE_FROM  \\\n",
       "0            51000          118959  2017-01-01 00:08:02  2017-01-01 00:08:02   \n",
       "1            51000          119276  2017-01-01 00:22:58  2017-01-01 00:22:58   \n",
       "2            51000          110849  2017-01-01 01:14:31  2017-01-01 01:14:31   \n",
       "3            51000          143816  2017-01-01 00:58:23  2017-01-01 00:58:23   \n",
       "4            50000          164404  2017-01-01 01:31:30  2017-01-01 01:31:30   \n",
       "\n",
       "            DATE_UNTIL                         START_RENTAL_ZONE  \\\n",
       "0  2017-01-01 00:12:13          Hauptbahnhof Ost / Hachmannplatz   \n",
       "1  2017-01-01 00:42:59                  Millerntorplatz/St.Pauli   \n",
       "2  2017-01-01 01:19:21             Winterhuder Weg/ Zimmerstraße   \n",
       "3  2017-01-01 01:13:05           Sternschanze / Eingang Dänenweg   \n",
       "4  2017-01-01 01:57:58  Eschersheimer Landstraße / Am Lindenbaum   \n",
       "\n",
       "   START_RENTAL_ZONE_HAL_ID                      END_RENTAL_ZONE  \\\n",
       "0                  131873.0       Amsinckstraße/ Nordkanalbrücke   \n",
       "1                  131905.0   Kümmellstraße / Robert-Koch-Straße   \n",
       "2                  208292.0        Mundsburg / Schürbeker Straße   \n",
       "3                  139501.0  Bahnhof Altona Ost/Max-Brauer-Allee   \n",
       "4                  227482.0  Marbachweg / Eckenheimer Landstraße   \n",
       "\n",
       "   END_RENTAL_ZONE_HAL_ID RENTAL_ZONE_HAL_SRC   CITY_RENTAL_ZONE  \\\n",
       "0                218174.0            Standort            Hamburg   \n",
       "1                140794.0            Standort            Hamburg   \n",
       "2                140799.0            Standort            Hamburg   \n",
       "3                131646.0            Standort            Hamburg   \n",
       "4                231798.0            Standort  Frankfurt am Main   \n",
       "\n",
       "  TECHNICAL_INCOME_CHANNEL  \n",
       "0  Terminal HH_34 (-2541-)  \n",
       "1               iPhone SRH  \n",
       "2               iPhone SRH  \n",
       "3   Terminal HH_6 (-2133-)  \n",
       "4                      IVR  "
      ]
     },
     "execution_count": 17,
     "metadata": {},
     "output_type": "execute_result"
    }
   ],
   "source": [
    "del df_2017['date']\n",
    "df_2017.head()"
   ]
  },
  {
   "cell_type": "code",
   "execution_count": 18,
   "metadata": {
    "collapsed": true
   },
   "outputs": [],
   "source": [
    "df_2017['DATE_BOOKING'] = pd.to_datetime(df_2017['DATE_BOOKING'])"
   ]
  },
  {
   "cell_type": "code",
   "execution_count": 19,
   "metadata": {},
   "outputs": [
    {
     "data": {
      "text/html": [
       "<div>\n",
       "<style>\n",
       "    .dataframe thead tr:only-child th {\n",
       "        text-align: right;\n",
       "    }\n",
       "\n",
       "    .dataframe thead th {\n",
       "        text-align: left;\n",
       "    }\n",
       "\n",
       "    .dataframe tbody tr th {\n",
       "        vertical-align: top;\n",
       "    }\n",
       "</style>\n",
       "<table border=\"1\" class=\"dataframe\">\n",
       "  <thead>\n",
       "    <tr style=\"text-align: right;\">\n",
       "      <th></th>\n",
       "      <th>CATEGORY_HAL_ID</th>\n",
       "      <th>VEHICLE_HAL_ID</th>\n",
       "      <th>DATE_BOOKING</th>\n",
       "      <th>DATE_FROM</th>\n",
       "      <th>DATE_UNTIL</th>\n",
       "      <th>START_RENTAL_ZONE</th>\n",
       "      <th>START_RENTAL_ZONE_HAL_ID</th>\n",
       "      <th>END_RENTAL_ZONE</th>\n",
       "      <th>END_RENTAL_ZONE_HAL_ID</th>\n",
       "      <th>RENTAL_ZONE_HAL_SRC</th>\n",
       "      <th>CITY_RENTAL_ZONE</th>\n",
       "      <th>TECHNICAL_INCOME_CHANNEL</th>\n",
       "    </tr>\n",
       "    <tr>\n",
       "      <th>DATE_BOOKING</th>\n",
       "      <th></th>\n",
       "      <th></th>\n",
       "      <th></th>\n",
       "      <th></th>\n",
       "      <th></th>\n",
       "      <th></th>\n",
       "      <th></th>\n",
       "      <th></th>\n",
       "      <th></th>\n",
       "      <th></th>\n",
       "      <th></th>\n",
       "      <th></th>\n",
       "    </tr>\n",
       "  </thead>\n",
       "  <tbody>\n",
       "    <tr>\n",
       "      <th>2017-01-01 00:08:02</th>\n",
       "      <td>51000</td>\n",
       "      <td>118959</td>\n",
       "      <td>2017-01-01 00:08:02</td>\n",
       "      <td>2017-01-01 00:08:02</td>\n",
       "      <td>2017-01-01 00:12:13</td>\n",
       "      <td>Hauptbahnhof Ost / Hachmannplatz</td>\n",
       "      <td>131873.0</td>\n",
       "      <td>Amsinckstraße/ Nordkanalbrücke</td>\n",
       "      <td>218174.0</td>\n",
       "      <td>Standort</td>\n",
       "      <td>Hamburg</td>\n",
       "      <td>Terminal HH_34 (-2541-)</td>\n",
       "    </tr>\n",
       "    <tr>\n",
       "      <th>2017-01-01 00:22:58</th>\n",
       "      <td>51000</td>\n",
       "      <td>119276</td>\n",
       "      <td>2017-01-01 00:22:58</td>\n",
       "      <td>2017-01-01 00:22:58</td>\n",
       "      <td>2017-01-01 00:42:59</td>\n",
       "      <td>Millerntorplatz/St.Pauli</td>\n",
       "      <td>131905.0</td>\n",
       "      <td>Kümmellstraße / Robert-Koch-Straße</td>\n",
       "      <td>140794.0</td>\n",
       "      <td>Standort</td>\n",
       "      <td>Hamburg</td>\n",
       "      <td>iPhone SRH</td>\n",
       "    </tr>\n",
       "    <tr>\n",
       "      <th>2017-01-01 01:14:31</th>\n",
       "      <td>51000</td>\n",
       "      <td>110849</td>\n",
       "      <td>2017-01-01 01:14:31</td>\n",
       "      <td>2017-01-01 01:14:31</td>\n",
       "      <td>2017-01-01 01:19:21</td>\n",
       "      <td>Winterhuder Weg/ Zimmerstraße</td>\n",
       "      <td>208292.0</td>\n",
       "      <td>Mundsburg / Schürbeker Straße</td>\n",
       "      <td>140799.0</td>\n",
       "      <td>Standort</td>\n",
       "      <td>Hamburg</td>\n",
       "      <td>iPhone SRH</td>\n",
       "    </tr>\n",
       "    <tr>\n",
       "      <th>2017-01-01 00:58:23</th>\n",
       "      <td>51000</td>\n",
       "      <td>143816</td>\n",
       "      <td>2017-01-01 00:58:23</td>\n",
       "      <td>2017-01-01 00:58:23</td>\n",
       "      <td>2017-01-01 01:13:05</td>\n",
       "      <td>Sternschanze / Eingang Dänenweg</td>\n",
       "      <td>139501.0</td>\n",
       "      <td>Bahnhof Altona Ost/Max-Brauer-Allee</td>\n",
       "      <td>131646.0</td>\n",
       "      <td>Standort</td>\n",
       "      <td>Hamburg</td>\n",
       "      <td>Terminal HH_6 (-2133-)</td>\n",
       "    </tr>\n",
       "    <tr>\n",
       "      <th>2017-01-01 01:31:30</th>\n",
       "      <td>50000</td>\n",
       "      <td>164404</td>\n",
       "      <td>2017-01-01 01:31:30</td>\n",
       "      <td>2017-01-01 01:31:30</td>\n",
       "      <td>2017-01-01 01:57:58</td>\n",
       "      <td>Eschersheimer Landstraße / Am Lindenbaum</td>\n",
       "      <td>227482.0</td>\n",
       "      <td>Marbachweg / Eckenheimer Landstraße</td>\n",
       "      <td>231798.0</td>\n",
       "      <td>Standort</td>\n",
       "      <td>Frankfurt am Main</td>\n",
       "      <td>IVR</td>\n",
       "    </tr>\n",
       "  </tbody>\n",
       "</table>\n",
       "</div>"
      ],
      "text/plain": [
       "                     CATEGORY_HAL_ID  VEHICLE_HAL_ID        DATE_BOOKING  \\\n",
       "DATE_BOOKING                                                               \n",
       "2017-01-01 00:08:02            51000          118959 2017-01-01 00:08:02   \n",
       "2017-01-01 00:22:58            51000          119276 2017-01-01 00:22:58   \n",
       "2017-01-01 01:14:31            51000          110849 2017-01-01 01:14:31   \n",
       "2017-01-01 00:58:23            51000          143816 2017-01-01 00:58:23   \n",
       "2017-01-01 01:31:30            50000          164404 2017-01-01 01:31:30   \n",
       "\n",
       "                               DATE_FROM           DATE_UNTIL  \\\n",
       "DATE_BOOKING                                                    \n",
       "2017-01-01 00:08:02  2017-01-01 00:08:02  2017-01-01 00:12:13   \n",
       "2017-01-01 00:22:58  2017-01-01 00:22:58  2017-01-01 00:42:59   \n",
       "2017-01-01 01:14:31  2017-01-01 01:14:31  2017-01-01 01:19:21   \n",
       "2017-01-01 00:58:23  2017-01-01 00:58:23  2017-01-01 01:13:05   \n",
       "2017-01-01 01:31:30  2017-01-01 01:31:30  2017-01-01 01:57:58   \n",
       "\n",
       "                                            START_RENTAL_ZONE  \\\n",
       "DATE_BOOKING                                                    \n",
       "2017-01-01 00:08:02          Hauptbahnhof Ost / Hachmannplatz   \n",
       "2017-01-01 00:22:58                  Millerntorplatz/St.Pauli   \n",
       "2017-01-01 01:14:31             Winterhuder Weg/ Zimmerstraße   \n",
       "2017-01-01 00:58:23           Sternschanze / Eingang Dänenweg   \n",
       "2017-01-01 01:31:30  Eschersheimer Landstraße / Am Lindenbaum   \n",
       "\n",
       "                     START_RENTAL_ZONE_HAL_ID  \\\n",
       "DATE_BOOKING                                    \n",
       "2017-01-01 00:08:02                  131873.0   \n",
       "2017-01-01 00:22:58                  131905.0   \n",
       "2017-01-01 01:14:31                  208292.0   \n",
       "2017-01-01 00:58:23                  139501.0   \n",
       "2017-01-01 01:31:30                  227482.0   \n",
       "\n",
       "                                         END_RENTAL_ZONE  \\\n",
       "DATE_BOOKING                                               \n",
       "2017-01-01 00:08:02       Amsinckstraße/ Nordkanalbrücke   \n",
       "2017-01-01 00:22:58   Kümmellstraße / Robert-Koch-Straße   \n",
       "2017-01-01 01:14:31        Mundsburg / Schürbeker Straße   \n",
       "2017-01-01 00:58:23  Bahnhof Altona Ost/Max-Brauer-Allee   \n",
       "2017-01-01 01:31:30  Marbachweg / Eckenheimer Landstraße   \n",
       "\n",
       "                     END_RENTAL_ZONE_HAL_ID RENTAL_ZONE_HAL_SRC  \\\n",
       "DATE_BOOKING                                                      \n",
       "2017-01-01 00:08:02                218174.0            Standort   \n",
       "2017-01-01 00:22:58                140794.0            Standort   \n",
       "2017-01-01 01:14:31                140799.0            Standort   \n",
       "2017-01-01 00:58:23                131646.0            Standort   \n",
       "2017-01-01 01:31:30                231798.0            Standort   \n",
       "\n",
       "                      CITY_RENTAL_ZONE TECHNICAL_INCOME_CHANNEL  \n",
       "DATE_BOOKING                                                     \n",
       "2017-01-01 00:08:02            Hamburg  Terminal HH_34 (-2541-)  \n",
       "2017-01-01 00:22:58            Hamburg               iPhone SRH  \n",
       "2017-01-01 01:14:31            Hamburg               iPhone SRH  \n",
       "2017-01-01 00:58:23            Hamburg   Terminal HH_6 (-2133-)  \n",
       "2017-01-01 01:31:30  Frankfurt am Main                      IVR  "
      ]
     },
     "execution_count": 19,
     "metadata": {},
     "output_type": "execute_result"
    }
   ],
   "source": [
    "df_2017.index = df_2017['DATE_BOOKING']\n",
    "df_2017.head()"
   ]
  },
  {
   "cell_type": "code",
   "execution_count": 20,
   "metadata": {
    "collapsed": true
   },
   "outputs": [],
   "source": [
    "df_month = df_2017.groupby(pd.TimeGrouper(freq='M'))"
   ]
  },
  {
   "cell_type": "code",
   "execution_count": 21,
   "metadata": {
    "collapsed": true
   },
   "outputs": [],
   "source": [
    "tem = df_month['DATE_BOOKING'].count()"
   ]
  },
  {
   "cell_type": "code",
   "execution_count": 22,
   "metadata": {
    "collapsed": true
   },
   "outputs": [],
   "source": [
    "month_name=[]\n",
    "month_wise_booking=[]\n",
    "for p,l in tem.items():\n",
    "    month_name.append(calendar.month_abbr[p.month])\n",
    "    month_wise_booking.append(l)"
   ]
  },
  {
   "cell_type": "code",
   "execution_count": 23,
   "metadata": {},
   "outputs": [
    {
     "name": "stdout",
     "output_type": "stream",
     "text": [
      "['Jan', 'Feb', 'Mar', 'Apr', 'May']\n",
      "[252056, 257098, 409249, 437352, 259798]\n"
     ]
    }
   ],
   "source": [
    "print(month_name)\n",
    "print(month_wise_booking)"
   ]
  },
  {
   "cell_type": "code",
   "execution_count": 24,
   "metadata": {},
   "outputs": [
    {
     "data": {
      "image/png": "[encoded data removed]",
      "text/plain": [
       "<matplotlib.figure.Figure at 0x7fc631711240>"
      ]
     },
     "metadata": {},
     "output_type": "display_data"
    }
   ],
   "source": [
    "x_plot = np.arange(len(month_name))\n",
    "plt.figure(figsize=(8,6))\n",
    "plt.title('Month Wise Booking', fontsize=15, fontweight='bold')\n",
    "p = plt.bar(x_plot+1, month_wise_booking)\n",
    "plt.xticks(x_plot+1, month_name, rotation = 'vertical')\n",
    "plt.show()"
   ]
  },
  {
   "cell_type": "code",
   "execution_count": 25,
   "metadata": {},
   "outputs": [
    {
     "data": {
      "text/plain": [
       "CATEGORY_HAL_ID             1615553\n",
       "VEHICLE_HAL_ID              1615553\n",
       "DATE_BOOKING                1615553\n",
       "DATE_FROM                   1615553\n",
       "DATE_UNTIL                  1615553\n",
       "START_RENTAL_ZONE           1357499\n",
       "START_RENTAL_ZONE_HAL_ID    1505908\n",
       "END_RENTAL_ZONE             1353296\n",
       "END_RENTAL_ZONE_HAL_ID      1504272\n",
       "RENTAL_ZONE_HAL_SRC         1568548\n",
       "CITY_RENTAL_ZONE            1615553\n",
       "TECHNICAL_INCOME_CHANNEL    1596837\n",
       "dtype: int64"
      ]
     },
     "execution_count": 25,
     "metadata": {},
     "output_type": "execute_result"
    }
   ],
   "source": [
    "df_2017.count()"
   ]
  },
  {
   "cell_type": "code",
   "execution_count": 26,
   "metadata": {
    "collapsed": true
   },
   "outputs": [],
   "source": [
    "df = df_2017.dropna(subset = ['TECHNICAL_INCOME_CHANNEL'],how='any', axis=0)"
   ]
  },
  {
   "cell_type": "code",
   "execution_count": 27,
   "metadata": {},
   "outputs": [
    {
     "data": {
      "text/plain": [
       "CATEGORY_HAL_ID             1596837\n",
       "VEHICLE_HAL_ID              1596837\n",
       "DATE_BOOKING                1596837\n",
       "DATE_FROM                   1596837\n",
       "DATE_UNTIL                  1596837\n",
       "START_RENTAL_ZONE           1341603\n",
       "START_RENTAL_ZONE_HAL_ID    1488263\n",
       "END_RENTAL_ZONE             1337571\n",
       "END_RENTAL_ZONE_HAL_ID      1486621\n",
       "RENTAL_ZONE_HAL_SRC         1550340\n",
       "CITY_RENTAL_ZONE            1596837\n",
       "TECHNICAL_INCOME_CHANNEL    1596837\n",
       "dtype: int64"
      ]
     },
     "execution_count": 27,
     "metadata": {},
     "output_type": "execute_result"
    }
   ],
   "source": [
    "df.count()"
   ]
  },
  {
   "cell_type": "code",
   "execution_count": 28,
   "metadata": {
    "collapsed": true
   },
   "outputs": [],
   "source": [
    "channel = df['TECHNICAL_INCOME_CHANNEL']"
   ]
  },
  {
   "cell_type": "code",
   "execution_count": 29,
   "metadata": {
    "collapsed": true
   },
   "outputs": [],
   "source": [
    "channel_group = {'android':[], 'iphone': [], 'windows': [], 'other': []}\n",
    "for j in channel:\n",
    "    if ('Android' in j):\n",
    "        channel_group['android'].append(j)\n",
    "    elif ('iPhone' in j):\n",
    "        channel_group['iphone'].append(j)\n",
    "    elif ('Windows' in j):\n",
    "        channel_group['windows'].append(j)\n",
    "    else:\n",
    "        channel_group['other'].append(j)"
   ]
  },
  {
   "cell_type": "code",
   "execution_count": 30,
   "metadata": {},
   "outputs": [
    {
     "name": "stdout",
     "output_type": "stream",
     "text": [
      "['android', 'iphone', 'windows', 'other']\n",
      "[506251, 602349, 16444, 471793]\n"
     ]
    }
   ],
   "source": [
    "groups, group_count = [],[]\n",
    "for i in channel_group:\n",
    "    groups.append(i)\n",
    "    group_count.append(len(channel_group[i]))\n",
    "print(groups)\n",
    "print(group_count)"
   ]
  },
  {
   "cell_type": "code",
   "execution_count": 31,
   "metadata": {},
   "outputs": [
    {
     "data": {
      "image/png": "[encoded data removed]",
      "text/plain": [
       "<matplotlib.figure.Figure at 0x7fc631695518>"
      ]
     },
     "metadata": {},
     "output_type": "display_data"
    }
   ],
   "source": [
    "x_plot = np.arange(len(groups))\n",
    "plt.figure(figsize=(8,6))\n",
    "plt.title('Channels', fontsize=15, fontweight='bold')\n",
    "p = plt.bar(x_plot+1, group_count)\n",
    "plt.xticks(x_plot+1, groups, fontsize=15)\n",
    "plt.show()"
   ]
  },
  {
   "cell_type": "code",
   "execution_count": null,
   "metadata": {
    "collapsed": true
   },
   "outputs": [],
   "source": []
  }
 ],
 "metadata": {
  "kernelspec": {
   "display_name": "Python 3",
   "language": "python",
   "name": "python3"
  },
  "language_info": {
   "codemirror_mode": {
    "name": "ipython",
    "version": 3
   },
   "file_extension": ".py",
   "mimetype": "text/x-python",
   "name": "python",
   "nbconvert_exporter": "python",
   "pygments_lexer": "ipython3",
   "version": "3.6.3"
  }
 },
 "nbformat": 4,
 "nbformat_minor": 2
}
