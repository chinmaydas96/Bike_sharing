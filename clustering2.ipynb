{
 "cells": [
  {
   "cell_type": "code",
   "execution_count": 1,
   "metadata": {},
   "outputs": [
    {
     "name": "stderr",
     "output_type": "stream",
     "text": [
      "/home/ubuntu/anaconda3/lib/python3.6/site-packages/matplotlib/__init__.py:1067: UserWarning: Duplicate key in file \"/home/ubuntu/.config/matplotlib/matplotlibrc\", line #2\n",
      "  (fname, cnt))\n",
      "/home/ubuntu/anaconda3/lib/python3.6/site-packages/matplotlib/__init__.py:1067: UserWarning: Duplicate key in file \"/home/ubuntu/.config/matplotlib/matplotlibrc\", line #3\n",
      "  (fname, cnt))\n"
     ]
    }
   ],
   "source": [
    "import pandas as pd\n",
    "import matplotlib.pyplot as plt\n",
    "import sklearn\n",
    "import numpy as np"
   ]
  },
  {
   "cell_type": "code",
   "execution_count": 2,
   "metadata": {},
   "outputs": [],
   "source": [
    "cluster_2016 = pd.read_csv('cluster_data1.csv')\n",
    "population_16 = pd.read_csv('population_16.csv')"
   ]
  },
  {
   "cell_type": "markdown",
   "metadata": {},
   "source": [
    "### Features use for the dataset\n",
    "\n",
    "* VEHICLE_TYPE\t\n",
    "* START_RENTAL_ZONE\t\n",
    "* END_RENTAL_ZONE\t\n",
    "* CITY_RENTAL_ZONE\n",
    "* TECHNICAL_INCOME_CHANNEL\n",
    "* Ride_Duration\n",
    "* Month\n",
    "\n",
    "#### All categorical variables are converted to integer value by either encoding or with their ids"
   ]
  },
  {
   "cell_type": "code",
   "execution_count": 3,
   "metadata": {},
   "outputs": [
    {
     "data": {
      "text/html": [
       "<div>\n",
       "<style scoped>\n",
       "    .dataframe tbody tr th:only-of-type {\n",
       "        vertical-align: middle;\n",
       "    }\n",
       "\n",
       "    .dataframe tbody tr th {\n",
       "        vertical-align: top;\n",
       "    }\n",
       "\n",
       "    .dataframe thead th {\n",
       "        text-align: right;\n",
       "    }\n",
       "</style>\n",
       "<table border=\"1\" class=\"dataframe\">\n",
       "  <thead>\n",
       "    <tr style=\"text-align: right;\">\n",
       "      <th></th>\n",
       "      <th>VEHICLE_HAL_ID</th>\n",
       "      <th>START_RENTAL_ZONE</th>\n",
       "      <th>START_RENTAL_ZONE_HAL_ID</th>\n",
       "      <th>END_RENTAL_ZONE</th>\n",
       "      <th>END_RENTAL_ZONE_HAL_ID</th>\n",
       "      <th>CITY_RENTAL_ZONE</th>\n",
       "      <th>TECHNICAL_INCOME_CHANNEL</th>\n",
       "      <th>Ride_Duration_new</th>\n",
       "      <th>Month</th>\n",
       "    </tr>\n",
       "  </thead>\n",
       "  <tbody>\n",
       "    <tr>\n",
       "      <th>0</th>\n",
       "      <td>108647</td>\n",
       "      <td>Überseering/Mexikoring</td>\n",
       "      <td>213687.0</td>\n",
       "      <td>Bebelallee/Meenkwiese</td>\n",
       "      <td>213855.0</td>\n",
       "      <td>Hamburg</td>\n",
       "      <td>Android</td>\n",
       "      <td>28.800000</td>\n",
       "      <td>1</td>\n",
       "    </tr>\n",
       "    <tr>\n",
       "      <th>1</th>\n",
       "      <td>108371</td>\n",
       "      <td>Stadthausbrücke / Neuer Wall</td>\n",
       "      <td>138379.0</td>\n",
       "      <td>Goldbekplatz / Semperstraße</td>\n",
       "      <td>140796.0</td>\n",
       "      <td>Hamburg</td>\n",
       "      <td>iPhone</td>\n",
       "      <td>27.050000</td>\n",
       "      <td>1</td>\n",
       "    </tr>\n",
       "    <tr>\n",
       "      <th>2</th>\n",
       "      <td>119829</td>\n",
       "      <td>Jungfernstieg / Ballindamm</td>\n",
       "      <td>131879.0</td>\n",
       "      <td>Hauptbahnhof Ost / Hachmannplatz</td>\n",
       "      <td>131873.0</td>\n",
       "      <td>Hamburg</td>\n",
       "      <td>iPhone</td>\n",
       "      <td>11.216667</td>\n",
       "      <td>1</td>\n",
       "    </tr>\n",
       "    <tr>\n",
       "      <th>3</th>\n",
       "      <td>116810</td>\n",
       "      <td>Hudtwalckerstraße / Bebelallee</td>\n",
       "      <td>138378.0</td>\n",
       "      <td>Kellinghusenstraße / Loogeplatz</td>\n",
       "      <td>140795.0</td>\n",
       "      <td>Hamburg</td>\n",
       "      <td>others</td>\n",
       "      <td>75.383333</td>\n",
       "      <td>1</td>\n",
       "    </tr>\n",
       "    <tr>\n",
       "      <th>4</th>\n",
       "      <td>120345</td>\n",
       "      <td>Bahnhof Dammtor Nord // Theodor-Heuss-Platz</td>\n",
       "      <td>131883.0</td>\n",
       "      <td>Feldstraße / Marktstraße</td>\n",
       "      <td>244093.0</td>\n",
       "      <td>Hamburg</td>\n",
       "      <td>Android</td>\n",
       "      <td>8.983333</td>\n",
       "      <td>1</td>\n",
       "    </tr>\n",
       "  </tbody>\n",
       "</table>\n",
       "</div>"
      ],
      "text/plain": [
       "   VEHICLE_HAL_ID                            START_RENTAL_ZONE  \\\n",
       "0          108647                       Überseering/Mexikoring   \n",
       "1          108371                 Stadthausbrücke / Neuer Wall   \n",
       "2          119829                   Jungfernstieg / Ballindamm   \n",
       "3          116810               Hudtwalckerstraße / Bebelallee   \n",
       "4          120345  Bahnhof Dammtor Nord // Theodor-Heuss-Platz   \n",
       "\n",
       "   START_RENTAL_ZONE_HAL_ID                   END_RENTAL_ZONE  \\\n",
       "0                  213687.0             Bebelallee/Meenkwiese   \n",
       "1                  138379.0       Goldbekplatz / Semperstraße   \n",
       "2                  131879.0  Hauptbahnhof Ost / Hachmannplatz   \n",
       "3                  138378.0   Kellinghusenstraße / Loogeplatz   \n",
       "4                  131883.0          Feldstraße / Marktstraße   \n",
       "\n",
       "   END_RENTAL_ZONE_HAL_ID CITY_RENTAL_ZONE TECHNICAL_INCOME_CHANNEL  \\\n",
       "0                213855.0          Hamburg                  Android   \n",
       "1                140796.0          Hamburg                   iPhone   \n",
       "2                131873.0          Hamburg                   iPhone   \n",
       "3                140795.0          Hamburg                   others   \n",
       "4                244093.0          Hamburg                  Android   \n",
       "\n",
       "   Ride_Duration_new  Month  \n",
       "0          28.800000      1  \n",
       "1          27.050000      1  \n",
       "2          11.216667      1  \n",
       "3          75.383333      1  \n",
       "4           8.983333      1  "
      ]
     },
     "execution_count": 3,
     "metadata": {},
     "output_type": "execute_result"
    }
   ],
   "source": [
    "cluster_2016.head(5)"
   ]
  },
  {
   "cell_type": "code",
   "execution_count": 4,
   "metadata": {},
   "outputs": [],
   "source": [
    "#df_city = pd.get_dummies(cluster_2016['CITY_RENTAL_ZONE'])"
   ]
  },
  {
   "cell_type": "code",
   "execution_count": 5,
   "metadata": {},
   "outputs": [],
   "source": [
    "#cluster_2016[\"CITY_RENTAL_ZONE\"] = cluster_2016[\"CITY_RENTAL_ZONE\"].astype('category')\n",
    "#cluster_2016[\"TECHNICAL_INCOME_CHANNEL\"] = cluster_2016[\"TECHNICAL_INCOME_CHANNEL\"].cat.codes"
   ]
  },
  {
   "cell_type": "markdown",
   "metadata": {},
   "source": [
    "#### Changing CITY_RENTAL_ZONE and TECHNICAL_INCOME_CHANNEL to category and then apply dummy encoding for converting them to integer value"
   ]
  },
  {
   "cell_type": "code",
   "execution_count": 6,
   "metadata": {},
   "outputs": [],
   "source": [
    "cluster_2016['CITY_RENTAL_ZONE']=cluster_2016['CITY_RENTAL_ZONE'].astype('category').cat.codes\n",
    "cluster_2016['TECHNICAL_INCOME_CHANNEL']=cluster_2016['TECHNICAL_INCOME_CHANNEL'].astype('category').cat.codes\n",
    "cluster_2016 = cluster_2016.drop(columns=['START_RENTAL_ZONE', 'END_RENTAL_ZONE'])"
   ]
  },
  {
   "cell_type": "code",
   "execution_count": 7,
   "metadata": {},
   "outputs": [
    {
     "data": {
      "text/html": [
       "<div>\n",
       "<style scoped>\n",
       "    .dataframe tbody tr th:only-of-type {\n",
       "        vertical-align: middle;\n",
       "    }\n",
       "\n",
       "    .dataframe tbody tr th {\n",
       "        vertical-align: top;\n",
       "    }\n",
       "\n",
       "    .dataframe thead th {\n",
       "        text-align: right;\n",
       "    }\n",
       "</style>\n",
       "<table border=\"1\" class=\"dataframe\">\n",
       "  <thead>\n",
       "    <tr style=\"text-align: right;\">\n",
       "      <th></th>\n",
       "      <th>VEHICLE_HAL_ID</th>\n",
       "      <th>START_RENTAL_ZONE_HAL_ID</th>\n",
       "      <th>END_RENTAL_ZONE_HAL_ID</th>\n",
       "      <th>CITY_RENTAL_ZONE</th>\n",
       "      <th>TECHNICAL_INCOME_CHANNEL</th>\n",
       "      <th>Ride_Duration_new</th>\n",
       "      <th>Month</th>\n",
       "    </tr>\n",
       "  </thead>\n",
       "  <tbody>\n",
       "    <tr>\n",
       "      <th>0</th>\n",
       "      <td>108647</td>\n",
       "      <td>213687.0</td>\n",
       "      <td>213855.0</td>\n",
       "      <td>18</td>\n",
       "      <td>0</td>\n",
       "      <td>28.800000</td>\n",
       "      <td>1</td>\n",
       "    </tr>\n",
       "    <tr>\n",
       "      <th>1</th>\n",
       "      <td>108371</td>\n",
       "      <td>138379.0</td>\n",
       "      <td>140796.0</td>\n",
       "      <td>18</td>\n",
       "      <td>4</td>\n",
       "      <td>27.050000</td>\n",
       "      <td>1</td>\n",
       "    </tr>\n",
       "    <tr>\n",
       "      <th>2</th>\n",
       "      <td>119829</td>\n",
       "      <td>131879.0</td>\n",
       "      <td>131873.0</td>\n",
       "      <td>18</td>\n",
       "      <td>4</td>\n",
       "      <td>11.216667</td>\n",
       "      <td>1</td>\n",
       "    </tr>\n",
       "    <tr>\n",
       "      <th>3</th>\n",
       "      <td>116810</td>\n",
       "      <td>138378.0</td>\n",
       "      <td>140795.0</td>\n",
       "      <td>18</td>\n",
       "      <td>5</td>\n",
       "      <td>75.383333</td>\n",
       "      <td>1</td>\n",
       "    </tr>\n",
       "    <tr>\n",
       "      <th>4</th>\n",
       "      <td>120345</td>\n",
       "      <td>131883.0</td>\n",
       "      <td>244093.0</td>\n",
       "      <td>18</td>\n",
       "      <td>0</td>\n",
       "      <td>8.983333</td>\n",
       "      <td>1</td>\n",
       "    </tr>\n",
       "  </tbody>\n",
       "</table>\n",
       "</div>"
      ],
      "text/plain": [
       "   VEHICLE_HAL_ID  START_RENTAL_ZONE_HAL_ID  END_RENTAL_ZONE_HAL_ID  \\\n",
       "0          108647                  213687.0                213855.0   \n",
       "1          108371                  138379.0                140796.0   \n",
       "2          119829                  131879.0                131873.0   \n",
       "3          116810                  138378.0                140795.0   \n",
       "4          120345                  131883.0                244093.0   \n",
       "\n",
       "   CITY_RENTAL_ZONE  TECHNICAL_INCOME_CHANNEL  Ride_Duration_new  Month  \n",
       "0                18                         0          28.800000      1  \n",
       "1                18                         4          27.050000      1  \n",
       "2                18                         4          11.216667      1  \n",
       "3                18                         5          75.383333      1  \n",
       "4                18                         0           8.983333      1  "
      ]
     },
     "execution_count": 7,
     "metadata": {},
     "output_type": "execute_result"
    }
   ],
   "source": [
    "cluster_2016.head()"
   ]
  },
  {
   "cell_type": "code",
   "execution_count": null,
   "metadata": {},
   "outputs": [],
   "source": [
    "#x = cluster_2016.reset_index().values"
   ]
  },
  {
   "cell_type": "markdown",
   "metadata": {},
   "source": [
    "* Here we apply **K-modes** algorithm as this dataset have both categorical value and numerical values."
   ]
  },
  {
   "cell_type": "code",
   "execution_count": 8,
   "metadata": {},
   "outputs": [
    {
     "name": "stdout",
     "output_type": "stream",
     "text": [
      "Requirement already satisfied: kmodes in /home/ubuntu/anaconda3/lib/python3.6/site-packages\r\n",
      "Requirement already satisfied: scipy>=0.13.3 in /home/ubuntu/anaconda3/lib/python3.6/site-packages (from kmodes)\r\n",
      "Requirement already satisfied: scikit-learn<0.20.0,>=0.19.0 in /home/ubuntu/anaconda3/lib/python3.6/site-packages (from kmodes)\r\n",
      "Requirement already satisfied: numpy>=1.10.4 in /home/ubuntu/anaconda3/lib/python3.6/site-packages (from kmodes)\r\n"
     ]
    }
   ],
   "source": [
    "! pip install kmodes"
   ]
  },
  {
   "cell_type": "code",
   "execution_count": null,
   "metadata": {},
   "outputs": [],
   "source": [
    "import numpy as np\n",
    "from kmodes.kmodes import KModes\n",
    "\n",
    "# making cluster size to 3 with 4 iteration \n",
    "km = KModes(n_clusters=3, init='Huang', n_init=4, verbose=1)\n",
    "\n",
    "# Predict only for 2016 year dataset\n",
    "clusters = km.fit_predict(cluster_2016)\n",
    "\n",
    "cluster_2016['clusters'] = clusters\n",
    "\n",
    "# Print the cluster centroids\n",
    "print(km.cluster_centroids_)"
   ]
  },
  {
   "cell_type": "markdown",
   "metadata": {},
   "source": [
    "#### For Visuaisation we apply PCA to decomposes all the features to two features and representing it in X and Y axis."
   ]
  },
  {
   "cell_type": "code",
   "execution_count": null,
   "metadata": {},
   "outputs": [],
   "source": [
    "from sklearn.decomposition import PCA\n",
    "pca = PCA(2)\n",
    "# Turn the dummified df into two columns with PCA\n",
    "plot_columns = pca.fit_transform(cluster_2016.loc[:,:])\n",
    "plot_columns.shape"
   ]
  },
  {
   "cell_type": "code",
   "execution_count": null,
   "metadata": {},
   "outputs": [],
   "source": [
    "# Plot based on the two dimensions, and shade by cluster label\n",
    "# s = marker size\n",
    "\n",
    "\n",
    "colors = ['red','green','blue']\n",
    "\n",
    "plt.scatter(x=plot_columns[:,1],y=plot_columns[:,0], color=[colors[l_] for l_ in cluster_2016[\"clusters\"]], label=cluster_2016[\"clusters\"])\n",
    "#plt.scatter(centroids[:, 0],centroids[:, 1], color=[c for c in colors[:len(centroids)]], marker = \"x\", s=150, linewidths = 5, zorder = 10)\n",
    "\n",
    "#plt.scatter(x=plot_columns[:,1], y=plot_columns[:,0], c=cluster_2016[\"clusters\"], s=30)\n",
    "plt.show()"
   ]
  },
  {
   "cell_type": "markdown",
   "metadata": {},
   "source": [
    "## applying different visualisation between different features with clusters"
   ]
  },
  {
   "cell_type": "code",
   "execution_count": null,
   "metadata": {},
   "outputs": [],
   "source": [
    "# Plot based on the two dimensions, and shade by cluster label\n",
    "# s\n",
    "\n",
    "plt.scatter(x=cluster_2016.as_matrix()[:,5], y=cluster_2016.as_matrix()[:,1], c=cluster_2016[\"clusters\"], s=30)\n",
    "plt.show()"
   ]
  },
  {
   "cell_type": "code",
   "execution_count": null,
   "metadata": {},
   "outputs": [],
   "source": [
    "cluster_2016.as_matrix()[:,0]"
   ]
  },
  {
   "cell_type": "code",
   "execution_count": 10,
   "metadata": {},
   "outputs": [
    {
     "data": {
      "text/html": [
       "<div>\n",
       "<style scoped>\n",
       "    .dataframe tbody tr th:only-of-type {\n",
       "        vertical-align: middle;\n",
       "    }\n",
       "\n",
       "    .dataframe tbody tr th {\n",
       "        vertical-align: top;\n",
       "    }\n",
       "\n",
       "    .dataframe thead th {\n",
       "        text-align: right;\n",
       "    }\n",
       "</style>\n",
       "<table border=\"1\" class=\"dataframe\">\n",
       "  <thead>\n",
       "    <tr style=\"text-align: right;\">\n",
       "      <th></th>\n",
       "      <th>VEHICLE_HAL_ID</th>\n",
       "      <th>START_RENTAL_ZONE_HAL_ID</th>\n",
       "      <th>END_RENTAL_ZONE_HAL_ID</th>\n",
       "      <th>CITY_RENTAL_ZONE</th>\n",
       "      <th>TECHNICAL_INCOME_CHANNEL</th>\n",
       "      <th>Ride_Duration_new</th>\n",
       "      <th>Month</th>\n",
       "    </tr>\n",
       "  </thead>\n",
       "  <tbody>\n",
       "    <tr>\n",
       "      <th>0</th>\n",
       "      <td>108647</td>\n",
       "      <td>213687.0</td>\n",
       "      <td>213855.0</td>\n",
       "      <td>18</td>\n",
       "      <td>0</td>\n",
       "      <td>28.800000</td>\n",
       "      <td>1</td>\n",
       "    </tr>\n",
       "    <tr>\n",
       "      <th>1</th>\n",
       "      <td>108371</td>\n",
       "      <td>138379.0</td>\n",
       "      <td>140796.0</td>\n",
       "      <td>18</td>\n",
       "      <td>4</td>\n",
       "      <td>27.050000</td>\n",
       "      <td>1</td>\n",
       "    </tr>\n",
       "    <tr>\n",
       "      <th>2</th>\n",
       "      <td>119829</td>\n",
       "      <td>131879.0</td>\n",
       "      <td>131873.0</td>\n",
       "      <td>18</td>\n",
       "      <td>4</td>\n",
       "      <td>11.216667</td>\n",
       "      <td>1</td>\n",
       "    </tr>\n",
       "    <tr>\n",
       "      <th>3</th>\n",
       "      <td>116810</td>\n",
       "      <td>138378.0</td>\n",
       "      <td>140795.0</td>\n",
       "      <td>18</td>\n",
       "      <td>5</td>\n",
       "      <td>75.383333</td>\n",
       "      <td>1</td>\n",
       "    </tr>\n",
       "    <tr>\n",
       "      <th>4</th>\n",
       "      <td>120345</td>\n",
       "      <td>131883.0</td>\n",
       "      <td>244093.0</td>\n",
       "      <td>18</td>\n",
       "      <td>0</td>\n",
       "      <td>8.983333</td>\n",
       "      <td>1</td>\n",
       "    </tr>\n",
       "  </tbody>\n",
       "</table>\n",
       "</div>"
      ],
      "text/plain": [
       "   VEHICLE_HAL_ID  START_RENTAL_ZONE_HAL_ID  END_RENTAL_ZONE_HAL_ID  \\\n",
       "0          108647                  213687.0                213855.0   \n",
       "1          108371                  138379.0                140796.0   \n",
       "2          119829                  131879.0                131873.0   \n",
       "3          116810                  138378.0                140795.0   \n",
       "4          120345                  131883.0                244093.0   \n",
       "\n",
       "   CITY_RENTAL_ZONE  TECHNICAL_INCOME_CHANNEL  Ride_Duration_new  Month  \n",
       "0                18                         0          28.800000      1  \n",
       "1                18                         4          27.050000      1  \n",
       "2                18                         4          11.216667      1  \n",
       "3                18                         5          75.383333      1  \n",
       "4                18                         0           8.983333      1  "
      ]
     },
     "execution_count": 10,
     "metadata": {},
     "output_type": "execute_result"
    }
   ],
   "source": [
    "cluster_2016.head()"
   ]
  },
  {
   "cell_type": "code",
   "execution_count": null,
   "metadata": {},
   "outputs": [],
   "source": [
    "import seaborn as sns\n",
    "sns.pairplot(cluster_2016)\n",
    "plt.show()"
   ]
  },
  {
   "cell_type": "markdown",
   "metadata": {},
   "source": [
    "### Result of the the dataset with cluster label."
   ]
  },
  {
   "cell_type": "code",
   "execution_count": null,
   "metadata": {},
   "outputs": [],
   "source": [
    "cluster_2016.head(100)"
   ]
  },
  {
   "cell_type": "markdown",
   "metadata": {},
   "source": [
    "### Cluster-0 labeled dataset"
   ]
  },
  {
   "cell_type": "code",
   "execution_count": null,
   "metadata": {},
   "outputs": [],
   "source": [
    "cluster_2016[cluster_2016['clusters'] == 0].head(100)"
   ]
  },
  {
   "cell_type": "markdown",
   "metadata": {},
   "source": [
    "### Cluster-1 labeled dataset"
   ]
  },
  {
   "cell_type": "code",
   "execution_count": null,
   "metadata": {},
   "outputs": [],
   "source": [
    "cluster_2016[cluster_2016['clusters'] == 1].head(100)"
   ]
  },
  {
   "cell_type": "markdown",
   "metadata": {},
   "source": [
    "### Cluster-2 labeled dataset"
   ]
  },
  {
   "cell_type": "code",
   "execution_count": null,
   "metadata": {},
   "outputs": [],
   "source": [
    "clu`ster_2016[cluster_2016['clusters'] == 2].head(100)"
   ]
  },
  {
   "cell_type": "markdown",
   "metadata": {},
   "source": [
    "### Cluster-3 labeled dataset"
   ]
  },
  {
   "cell_type": "code",
   "execution_count": null,
   "metadata": {},
   "outputs": [],
   "source": [
    "cluster_2016[cluster_2016['clusters'] == 3].head(100)"
   ]
  },
  {
   "cell_type": "markdown",
   "metadata": {},
   "source": [
    "## Adding New Population Features\n",
    "\n",
    "### concatinating population dataset with 2016 bike share dataset"
   ]
  },
  {
   "cell_type": "code",
   "execution_count": null,
   "metadata": {},
   "outputs": [],
   "source": [
    "area_dict = dict(zip(population_16.CITY_RENTAL_ZONE, population_16.Population16))"
   ]
  },
  {
   "cell_type": "code",
   "execution_count": null,
   "metadata": {},
   "outputs": [],
   "source": [
    "new_cluster_2016 = pd.read_csv('cluster_data1.csv')\n",
    "new_cluster_2016.head()"
   ]
  },
  {
   "cell_type": "code",
   "execution_count": null,
   "metadata": {},
   "outputs": [],
   "source": [
    "new_cluster_2016['population'] = new_cluster_2016['CITY_RENTAL_ZONE']\n",
    "new_cluster_2016.head()"
   ]
  },
  {
   "cell_type": "code",
   "execution_count": null,
   "metadata": {},
   "outputs": [],
   "source": [
    "new_cluster_2016 = new_cluster_2016.replace({\"population\": area_dict})"
   ]
  },
  {
   "cell_type": "code",
   "execution_count": null,
   "metadata": {},
   "outputs": [],
   "source": [
    "# New Population features which can directly feed into clustering model\n",
    "\n",
    "new_cluster_2016.head()"
   ]
  },
  {
   "cell_type": "markdown",
   "metadata": {},
   "source": [
    "#### Some cities poplation are missing"
   ]
  },
  {
   "cell_type": "code",
   "execution_count": null,
   "metadata": {},
   "outputs": [],
   "source": [
    "new_cluster_2016['population'].unique()"
   ]
  },
  {
   "cell_type": "code",
   "execution_count": null,
   "metadata": {},
   "outputs": [],
   "source": [
    "#final = pd.concat([cluster_2016,population_16],axis=1, copy=False)\n",
    "#result = pd.concat([df1, df4], axis=1, join_axes=[df1.index])\n",
    "#final.head()\n",
    "#final = final.dropna(axis=0, how='any')"
   ]
  },
  {
   "cell_type": "code",
   "execution_count": null,
   "metadata": {},
   "outputs": [],
   "source": []
  }
 ],
 "metadata": {
  "kernelspec": {
   "display_name": "Python 3",
   "language": "python",
   "name": "python3"
  },
  "language_info": {
   "codemirror_mode": {
    "name": "ipython",
    "version": 3
   },
   "file_extension": ".py",
   "mimetype": "text/x-python",
   "name": "python",
   "nbconvert_exporter": "python",
   "pygments_lexer": "ipython3",
   "version": "3.6.5"
  }
 },
 "nbformat": 4,
 "nbformat_minor": 2
}
